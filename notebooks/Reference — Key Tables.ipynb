{
 "cells": [
  {
   "cell_type": "markdown",
   "id": "4d73d779-8f86-4ca1-837a-d3f1bd79b708",
   "metadata": {},
   "source": [
    "# Reference — Key Links"
   ]
  },
  {
   "cell_type": "markdown",
   "id": "a7f12f47-eb00-451e-a253-251174f5763c",
   "metadata": {},
   "source": [
    "## MICrONs-Explorer\n",
    "\n",
    "[Microns-explorer](https://www.microns-explorer.org) offers a broad overview of the MICrONs data and how it was acquired. In addition, the website describes a second dataset limited to layer 2/3 of visual cortex.\n",
    "\n",
    "## MICrONs dataset reference:\n",
    "\n",
    "Documentation for the MICrONs data can be found [online here](https://allenswdb.github.io/microns-em/em-background.html). This is particularly useful for details such as table definitions, information about the coordinate system, proofreading states, and more.\n",
    "\n",
    "## Software tools:\n",
    "\n",
    "A number of custom software tools are useful for interfacing with the EM data. Some of the main ones are:\n",
    "\n",
    "* **CAVEclient**: Main client for querying datasets. [Documentation](http://caveclient.readthedocs.io).\n",
    "* **cloud-volume**: Client for interfacing with n-d array data and meshes. [Documentation](https://github.com/seung-lab/cloud-volume).\n",
    "* **meshparty**: Client for downloading and working with meshes and skeletons. [Documentation](https://meshparty.readthedocs.io).\n",
    "* **pcg_skel**: Tooling for generating skeletons from CAVE-infrastructure backed datasets. [Documentation](https://github.com/AllenInstitute/pcg_skel).\n",
    "* **nglui**: Tooling for generating neuroglancer states from dataframes. [Documentation](https://github.com/seung-lab/NeuroglancerAnnotationUI).\n",
    "* **standard-transform**: Tooling for converting to a consistent aligned and scaled coordinate system. [Documentation](https://github.com/ceesem/standard_transform)."
   ]
  },
  {
   "cell_type": "code",
   "execution_count": null,
   "id": "e20d2697-a5ba-4bfc-a725-95b4e7885f57",
   "metadata": {},
   "outputs": [],
   "source": []
  }
 ],
 "metadata": {
  "kernelspec": {
   "display_name": "analysis_m1",
   "language": "python",
   "name": "analysis_m1"
  },
  "language_info": {
   "codemirror_mode": {
    "name": "ipython",
    "version": 3
   },
   "file_extension": ".py",
   "mimetype": "text/x-python",
   "name": "python",
   "nbconvert_exporter": "python",
   "pygments_lexer": "ipython3",
   "version": "3.10.9"
  }
 },
 "nbformat": 4,
 "nbformat_minor": 5
}
