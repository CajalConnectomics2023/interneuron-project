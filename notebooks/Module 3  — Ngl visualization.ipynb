{
 "cells": [
  {
   "cell_type": "markdown",
   "id": "9a84d092-7250-4434-aaca-47b362207750",
   "metadata": {},
   "source": [
    "## Module 3 — Visualizing Data\n",
    "\n",
    "There are a number of ways to visualize annotations and analysis of EM data. This tutorial will go into a few aspects that are more specific to working with the MICrONs EM data.\n",
    "\n",
    "For general purpose python plotting, there are a number of useful tutorials out there. In particular, I recommend looking at [Seaborn](https://seaborn.pydata.org/), which makes it easy to work with data tables in the powerful visualization library [MatPlotLib](https://matplotlib.org/stable/tutorials/index.html). We would be happy to discuss such plotting, but will not go into it further here."
   ]
  },
  {
   "cell_type": "markdown",
   "id": "c56e5cee-3ca0-4988-8750-83ff83b94011",
   "metadata": {},
   "source": [
    "### Putting data into Neuroglancer"
   ]
  },
  {
   "cell_type": "markdown",
   "id": "b30286df-e543-47ba-9878-a468ebfc7dde",
   "metadata": {},
   "source": [
    "We have build a tool called `nglui` to take arrays of data and generate neuroglancer states with certain neurons selected, annotation points located, etc.\n",
    "\n",
    "Statebuilder is a submodule that helps produce custom Neuroglancer states based on data in the form of Pandas dataframes. Neuroglancer organizes data sources into layers. Layers come in three types, image, segmentation, and annotation. Each has different properties and functions. The state builder lets the user define a set of rules for initializing layers and how to map data columns to selections and annotations. Let's see the simplest example in use now.\n",
    "\n"
   ]
  },
  {
   "cell_type": "code",
   "execution_count": 1,
   "id": "b75a6616-6547-4fb9-8c0f-6d1ef98b6c26",
   "metadata": {},
   "outputs": [],
   "source": [
    "from caveclient import CAVEclient\n",
    "from nglui import statebuilder\n",
    "\n",
    "client = CAVEclient('minnie65_public')"
   ]
  },
  {
   "cell_type": "markdown",
   "id": "d1b1e973-eb8a-4c34-b0c1-5907069a4d6a",
   "metadata": {},
   "source": [
    "### Layers and Statebuilders\n",
    "\n",
    "The design of the statebuilder package follows the design of Neuroglancer. You specify the \"rules\" for each layer \n",
    "\n",
    "Image layers in Neuroglancer are pretty simple. An image has a name (by default 'img' here) and a source, which is typically a path to a cloud hosted 3d image volume. We define an image layer with an ImageLayerConfig that lets the user set these key parameters. Conveniently, we don't need to remember the path name and we can get it from the client instead.\n",
    "\n",
    "Segmentation Layers just need the cloud path, which again we can get from the client."
   ]
  },
  {
   "cell_type": "code",
   "execution_count": 2,
   "id": "ee74ddc1-7203-4c96-89da-2a2cde37b355",
   "metadata": {},
   "outputs": [],
   "source": [
    "img = statebuilder.ImageLayerConfig(\n",
    "    source=client.info.image_source(),\n",
    "    contrast_controls=True, # this just puts in the code needed to manually adjust contrast\n",
    ")\n",
    "\n",
    "seg = statebuilder.SegmentationLayerConfig(\n",
    "    source=client.info.segmentation_source(),\n",
    ")"
   ]
  },
  {
   "cell_type": "markdown",
   "id": "467bc0ad-0906-439f-88db-613fde17f1d2",
   "metadata": {},
   "source": [
    "Now we can assemble these layers together to a single StateBuilder:"
   ]
  },
  {
   "cell_type": "code",
   "execution_count": 3,
   "id": "9b6ebfcb-5c63-44a4-8180-5b9dc9ceff03",
   "metadata": {},
   "outputs": [],
   "source": [
    "sb = statebuilder.StateBuilder(\n",
    "    layers=[img, seg],\n",
    "    client=client,\n",
    ")"
   ]
  },
  {
   "cell_type": "markdown",
   "id": "fc4bd5a3-1f81-4872-a70b-a8136ac409c3",
   "metadata": {},
   "source": [
    "At its simplest, you can just render out a link this way:"
   ]
  },
  {
   "cell_type": "code",
   "execution_count": 4,
   "id": "e3685f2b-f9f7-47a1-a320-9c7196f02116",
   "metadata": {},
   "outputs": [
    {
     "data": {
      "text/plain": [
       "'https://neuroglancer.neuvue.io#!%7B%22jsonStateServer%22:%22https://global.daf-apis.com/nglstate/api/v1/post%22,%22navigation%22:%7B%22pose%22:%7B%22position%22:%7B%22voxelSize%22:%5B4.0,4.0,40.0%5D%7D%7D,%22zoomFactor%22:2.0%7D,%22showSlices%22:false,%22layout%22:%22xy-3d%22,%22perspectiveZoom%22:2000.0,%22layers%22:%5B%7B%22type%22:%22image%22,%22source%22:%22precomputed://https://bossdb-open-data.s3.amazonaws.com/iarpa_microns/minnie/minnie65/em%22,%22name%22:%22img%22,%22shader%22:%22#uicontrol%20float%20black%20slider(min=0,%20max=1,%20default=0.0)%5Cn#uicontrol%20float%20white%20slider(min=0,%20max=1,%20default=1.0)%5Cnfloat%20rescale(float%20value)%20%7B%5Cn%20%20return%20(value%20-%20black)%20/%20(white%20-%20black);%5Cn%7D%5Cnvoid%20main()%20%7B%5Cn%20%20float%20val%20=%20toNormalized(getDataValue());%5Cn%20%20if%20(val%20%3C%20black)%20%7B%5Cn%20%20%20%20emitRGB(vec3(0,0,0));%5Cn%20%20%7D%20else%20if%20(val%20%3E%20white)%20%7B%5Cn%20%20%20%20emitRGB(vec3(1.0,%201.0,%201.0));%5Cn%20%20%7D%20else%20%7B%5Cn%20%20%20%20emitGrayscale(rescale(val));%5Cn%20%20%7D%5Cn%7D%5Cn%22%7D,%7B%22type%22:%22segmentation_with_graph%22,%22source%22:%22graphene://https://minnie.microns-daf.com/segmentation/table/minnie65_public%22,%22name%22:%22seg%22,%22selectedAlpha%22:0.3,%22objectAlpha%22:1.0,%22notSelectedAlpha%22:0.0%7D%5D%7D'"
      ]
     },
     "execution_count": 4,
     "metadata": {},
     "output_type": "execute_result"
    }
   ],
   "source": [
    "sb.render_state()"
   ]
  },
  {
   "cell_type": "markdown",
   "id": "8709ecae-69a6-4244-baa4-aa50ebb7b9b9",
   "metadata": {},
   "source": [
    "That's a bit a bit ugly, let's make it more pleasant:"
   ]
  },
  {
   "cell_type": "code",
   "execution_count": 5,
   "id": "68b21d45-cc3f-4335-bd93-8da7d1f81943",
   "metadata": {},
   "outputs": [
    {
     "data": {
      "text/html": [
       "<a href=\"https://neuroglancer.neuvue.io#!%7B%22jsonStateServer%22:%22https://global.daf-apis.com/nglstate/api/v1/post%22,%22navigation%22:%7B%22pose%22:%7B%22position%22:%7B%22voxelSize%22:%5B4.0,4.0,40.0%5D%7D%7D,%22zoomFactor%22:2.0%7D,%22showSlices%22:false,%22layout%22:%22xy-3d%22,%22perspectiveZoom%22:2000.0,%22layers%22:%5B%7B%22type%22:%22image%22,%22source%22:%22precomputed://https://bossdb-open-data.s3.amazonaws.com/iarpa_microns/minnie/minnie65/em%22,%22name%22:%22img%22,%22shader%22:%22#uicontrol%20float%20black%20slider(min=0,%20max=1,%20default=0.0)%5Cn#uicontrol%20float%20white%20slider(min=0,%20max=1,%20default=1.0)%5Cnfloat%20rescale(float%20value)%20%7B%5Cn%20%20return%20(value%20-%20black)%20/%20(white%20-%20black);%5Cn%7D%5Cnvoid%20main()%20%7B%5Cn%20%20float%20val%20=%20toNormalized(getDataValue());%5Cn%20%20if%20(val%20%3C%20black)%20%7B%5Cn%20%20%20%20emitRGB(vec3(0,0,0));%5Cn%20%20%7D%20else%20if%20(val%20%3E%20white)%20%7B%5Cn%20%20%20%20emitRGB(vec3(1.0,%201.0,%201.0));%5Cn%20%20%7D%20else%20%7B%5Cn%20%20%20%20emitGrayscale(rescale(val));%5Cn%20%20%7D%5Cn%7D%5Cn%22%7D,%7B%22type%22:%22segmentation_with_graph%22,%22source%22:%22graphene://https://minnie.microns-daf.com/segmentation/table/minnie65_public%22,%22name%22:%22seg%22,%22selectedAlpha%22:0.3,%22objectAlpha%22:1.0,%22notSelectedAlpha%22:0.0%7D%5D%7D\" target=\"_blank\">Neuroglancer Link</a>"
      ],
      "text/plain": [
       "<IPython.core.display.HTML object>"
      ]
     },
     "execution_count": 5,
     "metadata": {},
     "output_type": "execute_result"
    }
   ],
   "source": [
    "sb.render_state(return_as='html')"
   ]
  },
  {
   "cell_type": "markdown",
   "id": "4eb894ba-85ab-4e91-85a7-71efccbab67b",
   "metadata": {},
   "source": [
    "# Data-driven links\n",
    "\n",
    "Great, but now let's make it responsive to data!"
   ]
  },
  {
   "cell_type": "code",
   "execution_count": 6,
   "id": "9cf082d0-d0d5-44ff-ad7d-69ebb3ab2ef7",
   "metadata": {
    "scrolled": true
   },
   "outputs": [
    {
     "name": "stderr",
     "output_type": "stream",
     "text": [
      "The `client.materialize.tables` interface is experimental and might experience breaking changes before the feature is stabilized.\n"
     ]
    },
    {
     "data": {
      "text/html": [
       "<div>\n",
       "<style scoped>\n",
       "    .dataframe tbody tr th:only-of-type {\n",
       "        vertical-align: middle;\n",
       "    }\n",
       "\n",
       "    .dataframe tbody tr th {\n",
       "        vertical-align: top;\n",
       "    }\n",
       "\n",
       "    .dataframe thead th {\n",
       "        text-align: right;\n",
       "    }\n",
       "</style>\n",
       "<table border=\"1\" class=\"dataframe\">\n",
       "  <thead>\n",
       "    <tr style=\"text-align: right;\">\n",
       "      <th></th>\n",
       "      <th>id_ref</th>\n",
       "      <th>created_ref</th>\n",
       "      <th>valid_ref</th>\n",
       "      <th>target_id</th>\n",
       "      <th>classification_system</th>\n",
       "      <th>cell_type</th>\n",
       "      <th>id</th>\n",
       "      <th>created</th>\n",
       "      <th>valid</th>\n",
       "      <th>volume</th>\n",
       "      <th>pt_supervoxel_id</th>\n",
       "      <th>pt_root_id</th>\n",
       "      <th>pt_position</th>\n",
       "      <th>bb_start_position</th>\n",
       "      <th>bb_end_position</th>\n",
       "    </tr>\n",
       "  </thead>\n",
       "  <tbody>\n",
       "    <tr>\n",
       "      <th>0</th>\n",
       "      <td>50</td>\n",
       "      <td>2023-03-18 14:13:21.613360+00:00</td>\n",
       "      <td>t</td>\n",
       "      <td>258319</td>\n",
       "      <td>aibs_coarse_excitatory</td>\n",
       "      <td>23P</td>\n",
       "      <td>258319</td>\n",
       "      <td>2020-09-28 22:40:42.476911+00:00</td>\n",
       "      <td>t</td>\n",
       "      <td>261.806162</td>\n",
       "      <td>89309001002848425</td>\n",
       "      <td>864691135698459925</td>\n",
       "      <td>[178400, 143248, 21238]</td>\n",
       "      <td>[nan, nan, nan]</td>\n",
       "      <td>[nan, nan, nan]</td>\n",
       "    </tr>\n",
       "    <tr>\n",
       "      <th>1</th>\n",
       "      <td>1119</td>\n",
       "      <td>2023-03-18 14:13:22.506660+00:00</td>\n",
       "      <td>t</td>\n",
       "      <td>276438</td>\n",
       "      <td>aibs_coarse_excitatory</td>\n",
       "      <td>6P-CT</td>\n",
       "      <td>276438</td>\n",
       "      <td>2020-09-28 22:40:42.700226+00:00</td>\n",
       "      <td>t</td>\n",
       "      <td>277.317714</td>\n",
       "      <td>89465269428261699</td>\n",
       "      <td>864691136487559186</td>\n",
       "      <td>[179648, 258768, 23597]</td>\n",
       "      <td>[nan, nan, nan]</td>\n",
       "      <td>[nan, nan, nan]</td>\n",
       "    </tr>\n",
       "    <tr>\n",
       "      <th>2</th>\n",
       "      <td>35</td>\n",
       "      <td>2023-03-18 14:13:21.602813+00:00</td>\n",
       "      <td>t</td>\n",
       "      <td>260552</td>\n",
       "      <td>aibs_coarse_excitatory</td>\n",
       "      <td>23P</td>\n",
       "      <td>260552</td>\n",
       "      <td>2020-09-28 22:40:42.745779+00:00</td>\n",
       "      <td>t</td>\n",
       "      <td>230.111805</td>\n",
       "      <td>89170256379033022</td>\n",
       "      <td>864691136040432126</td>\n",
       "      <td>[177408, 157968, 21002]</td>\n",
       "      <td>[nan, nan, nan]</td>\n",
       "      <td>[nan, nan, nan]</td>\n",
       "    </tr>\n",
       "    <tr>\n",
       "      <th>3</th>\n",
       "      <td>95</td>\n",
       "      <td>2023-03-18 14:13:21.644304+00:00</td>\n",
       "      <td>t</td>\n",
       "      <td>260263</td>\n",
       "      <td>aibs_coarse_excitatory</td>\n",
       "      <td>23P</td>\n",
       "      <td>260263</td>\n",
       "      <td>2020-09-28 22:40:42.746658+00:00</td>\n",
       "      <td>t</td>\n",
       "      <td>274.324193</td>\n",
       "      <td>88044356338331571</td>\n",
       "      <td>864691136334881203</td>\n",
       "      <td>[169440, 158128, 20266]</td>\n",
       "      <td>[nan, nan, nan]</td>\n",
       "      <td>[nan, nan, nan]</td>\n",
       "    </tr>\n",
       "    <tr>\n",
       "      <th>4</th>\n",
       "      <td>81</td>\n",
       "      <td>2023-03-18 14:13:21.634505+00:00</td>\n",
       "      <td>t</td>\n",
       "      <td>262898</td>\n",
       "      <td>aibs_coarse_inhibitory</td>\n",
       "      <td>BPC</td>\n",
       "      <td>262898</td>\n",
       "      <td>2020-09-28 22:40:42.749245+00:00</td>\n",
       "      <td>t</td>\n",
       "      <td>230.092308</td>\n",
       "      <td>88468836747612860</td>\n",
       "      <td>864691135654475970</td>\n",
       "      <td>[172512, 175280, 21964]</td>\n",
       "      <td>[nan, nan, nan]</td>\n",
       "      <td>[nan, nan, nan]</td>\n",
       "    </tr>\n",
       "  </tbody>\n",
       "</table>\n",
       "</div>"
      ],
      "text/plain": [
       "   id_ref                      created_ref valid_ref  target_id  \\\n",
       "0      50 2023-03-18 14:13:21.613360+00:00         t     258319   \n",
       "1    1119 2023-03-18 14:13:22.506660+00:00         t     276438   \n",
       "2      35 2023-03-18 14:13:21.602813+00:00         t     260552   \n",
       "3      95 2023-03-18 14:13:21.644304+00:00         t     260263   \n",
       "4      81 2023-03-18 14:13:21.634505+00:00         t     262898   \n",
       "\n",
       "    classification_system cell_type      id                          created  \\\n",
       "0  aibs_coarse_excitatory       23P  258319 2020-09-28 22:40:42.476911+00:00   \n",
       "1  aibs_coarse_excitatory     6P-CT  276438 2020-09-28 22:40:42.700226+00:00   \n",
       "2  aibs_coarse_excitatory       23P  260552 2020-09-28 22:40:42.745779+00:00   \n",
       "3  aibs_coarse_excitatory       23P  260263 2020-09-28 22:40:42.746658+00:00   \n",
       "4  aibs_coarse_inhibitory       BPC  262898 2020-09-28 22:40:42.749245+00:00   \n",
       "\n",
       "  valid      volume   pt_supervoxel_id          pt_root_id  \\\n",
       "0     t  261.806162  89309001002848425  864691135698459925   \n",
       "1     t  277.317714  89465269428261699  864691136487559186   \n",
       "2     t  230.111805  89170256379033022  864691136040432126   \n",
       "3     t  274.324193  88044356338331571  864691136334881203   \n",
       "4     t  230.092308  88468836747612860  864691135654475970   \n",
       "\n",
       "               pt_position bb_start_position  bb_end_position  \n",
       "0  [178400, 143248, 21238]   [nan, nan, nan]  [nan, nan, nan]  \n",
       "1  [179648, 258768, 23597]   [nan, nan, nan]  [nan, nan, nan]  \n",
       "2  [177408, 157968, 21002]   [nan, nan, nan]  [nan, nan, nan]  \n",
       "3  [169440, 158128, 20266]   [nan, nan, nan]  [nan, nan, nan]  \n",
       "4  [172512, 175280, 21964]   [nan, nan, nan]  [nan, nan, nan]  "
      ]
     },
     "execution_count": 6,
     "metadata": {},
     "output_type": "execute_result"
    }
   ],
   "source": [
    "# First, let's download some cell types\n",
    "ct_df = client.materialize.tables.allen_v1_column_types_slanted_ref().query(\n",
    "    desired_resolution=[4,4,40],  # Useful to ensure you know the resolution of the data points\n",
    ")\n",
    "\n",
    "# Glance at the columns of the table\n",
    "ct_df.head()"
   ]
  },
  {
   "cell_type": "code",
   "execution_count": 7,
   "id": "ce8dd75a-e6b5-43b5-bd96-279167c04560",
   "metadata": {},
   "outputs": [],
   "source": [
    "# We can slice this to get cells whose cell type is \"5P-PT\"\n",
    "\n",
    "l5pt_df = ct_df[\n",
    "    ct_df['cell_type'] == \"5P-PT\"\n",
    "]"
   ]
  },
  {
   "cell_type": "markdown",
   "id": "0c63c1b6-022e-4118-acc5-a8290f268661",
   "metadata": {},
   "source": [
    "Now let's build the layers again. As always, we need an image and a segmentation layer, but there is a convenience function to get those from a client directly:"
   ]
  },
  {
   "cell_type": "code",
   "execution_count": 8,
   "id": "1636cc87-5a7d-4357-bfd4-f427f10a0a2d",
   "metadata": {},
   "outputs": [],
   "source": [
    "img, seg = statebuilder.from_client(client)"
   ]
  },
  {
   "cell_type": "markdown",
   "id": "df74b563-e0ce-4b3a-8e12-6e57d8629100",
   "metadata": {},
   "source": [
    "Now we want to add an annotation layer that knows how to transform the dataframe we have into neuroglancer point annotations. A typical annotation layer looks like the following:\n",
    "\n",
    "* A name specifies the layer in the neuroglancer tabs\n",
    "* A \"linked segmentation layer\" tells the annotation layer what segmentation layer to use to load root ids. This is specified by providing the name of the segmentation layer (\"seg\" by default), but is easiest done by using the `seg.name` property of the segmentation layer we just created.\n",
    "* A \"mapping rule\" that describes how to map dataframe columns to annotation properties. `PointMapper` creates points annotations, a `LineMapper` creates line annotations, etc. In this case, we assign the point column (i.e. the location of the point) and the \"linked segmentation\" (i.e. the root id of the cell that will be highlighted).\n",
    "* A data resolution that says how to interpret the points in nanometers. i.e. [4,4,40] indicates the points correspond to 4x4x40 nm voxels. For this dataset, most database values are in [4,4,40] resolution and this is treated as a default resolution (information stored in the dataset metadata) if a data resolution is omitted."
   ]
  },
  {
   "cell_type": "code",
   "execution_count": 9,
   "id": "1dbc3f16-4701-49a6-8882-0bb73124be9e",
   "metadata": {},
   "outputs": [],
   "source": [
    "anno = statebuilder.AnnotationLayerConfig(\n",
    "    name = 'my_cells',\n",
    "    linked_segmentation_layer=seg.name,\n",
    "    mapping_rules=statebuilder.PointMapper(\n",
    "        point_column='pt_position',\n",
    "        linked_segmentation_column='pt_root_id',\n",
    "    ),\n",
    "    data_resolution=[4,4,40]   # This should be the same as the desired_resolution above.\n",
    ")"
   ]
  },
  {
   "cell_type": "markdown",
   "id": "8fd1e80e-997c-45d6-af28-876ff6a2986f",
   "metadata": {},
   "source": [
    "Now we build the statebuilder just like before, but with one more layer:"
   ]
  },
  {
   "cell_type": "code",
   "execution_count": 10,
   "id": "5cf31196-10d5-4493-904e-7859966b8e42",
   "metadata": {},
   "outputs": [],
   "source": [
    "sb = statebuilder.StateBuilder(\n",
    "    layers = [img, seg, anno],\n",
    "    client=client,\n",
    ")"
   ]
  },
  {
   "cell_type": "markdown",
   "id": "c073a622-a594-464c-9483-2b9f49d11976",
   "metadata": {},
   "source": [
    "Now we can render the data:"
   ]
  },
  {
   "cell_type": "code",
   "execution_count": 11,
   "id": "12231fb3-4a2a-40d6-938d-2cec3780a387",
   "metadata": {},
   "outputs": [
    {
     "data": {
      "text/html": [
       "<a href=\"https://neuroglancer.neuvue.io#!%7B%22jsonStateServer%22:%22https://global.daf-apis.com/nglstate/api/v1/post%22,%22navigation%22:%7B%22pose%22:%7B%22position%22:%7B%22voxelSize%22:%5B4.0,4.0,40.0%5D%7D%7D,%22zoomFactor%22:2.0%7D,%22showSlices%22:false,%22layout%22:%22xy-3d%22,%22perspectiveZoom%22:2000.0,%22layers%22:%5B%7B%22type%22:%22image%22,%22source%22:%22precomputed://https://bossdb-open-data.s3.amazonaws.com/iarpa_microns/minnie/minnie65/em%22,%22name%22:%22img%22,%22shader%22:%22#uicontrol%20float%20black%20slider(min=0,%20max=1,%20default=0)%5Cn#uicontrol%20float%20white%20slider(min=0,%20max=1,%20default=1)%5Cnfloat%20rescale(float%20value)%20%7B%5Cn%20%20return%20(value%20-%20black)%20/%20(white%20-%20black);%5Cn%7D%5Cnvoid%20main()%20%7B%5Cn%20%20float%20val%20=%20toNormalized(getDataValue());%5Cn%20%20if%20(val%20%3C%20black)%20%7B%5Cn%20%20%20%20emitRGB(vec3(0,0,0));%5Cn%20%20%7D%20else%20if%20(val%20%3E%20white)%20%7B%5Cn%20%20%20%20emitRGB(vec3(1.0,%201.0,%201.0));%5Cn%20%20%7D%20else%20%7B%5Cn%20%20%20%20emitGrayscale(rescale(val));%5Cn%20%20%7D%5Cn%7D%5Cn%22%7D,%7B%22type%22:%22segmentation_with_graph%22,%22source%22:%22graphene://https://minnie.microns-daf.com/segmentation/table/minnie65_public%22,%22name%22:%22seg%22,%22selectedAlpha%22:0.3,%22objectAlpha%22:1.0,%22notSelectedAlpha%22:0.0%7D,%7B%22type%22:%22annotation%22,%22linkedSegmentationLayer%22:%22seg%22,%22filterBySegmentation%22:false,%22bracketShortcutsShowSegmentation%22:true,%22annotationSelectionShowsSegmentation%22:true,%22name%22:%22my_cells%22,%22annotations%22:%5B%5D%7D%5D,%22selectedLayer%22:%7B%22layer%22:%22my_cells%22,%22visible%22:true%7D%7D\" target=\"_blank\">Neuroglancer Link</a>"
      ],
      "text/plain": [
       "<IPython.core.display.HTML object>"
      ]
     },
     "execution_count": 11,
     "metadata": {},
     "output_type": "execute_result"
    }
   ],
   "source": [
    "sb.render_state(return_as='html')"
   ]
  },
  {
   "cell_type": "markdown",
   "id": "7b1fb143-36b7-4262-8397-6da6dfb24984",
   "metadata": {},
   "source": [
    "Wait, this looks no different! That's because we only gave the statebuilder the rules, but not the data."
   ]
  },
  {
   "cell_type": "code",
   "execution_count": 12,
   "id": "7cfe7d81-5170-4b1a-8909-b9bfa3b4438c",
   "metadata": {},
   "outputs": [
    {
     "data": {
      "text/html": [
       "<a href=\"https://neuroglancer.neuvue.io#!%7B%22jsonStateServer%22:%22https://global.daf-apis.com/nglstate/api/v1/post%22,%22navigation%22:%7B%22pose%22:%7B%22position%22:%7B%22voxelSize%22:%5B4.0,4.0,40.0%5D,%22voxelCoordinates%22:%5B193632.0,207584.0,21793.0%5D%7D%7D,%22zoomFactor%22:2.0%7D,%22showSlices%22:false,%22layout%22:%22xy-3d%22,%22perspectiveZoom%22:2000.0,%22layers%22:%5B%7B%22type%22:%22image%22,%22source%22:%22precomputed://https://bossdb-open-data.s3.amazonaws.com/iarpa_microns/minnie/minnie65/em%22,%22name%22:%22img%22,%22shader%22:%22#uicontrol%20float%20black%20slider(min=0,%20max=1,%20default=0)%5Cn#uicontrol%20float%20white%20slider(min=0,%20max=1,%20default=1)%5Cnfloat%20rescale(float%20value)%20%7B%5Cn%20%20return%20(value%20-%20black)%20/%20(white%20-%20black);%5Cn%7D%5Cnvoid%20main()%20%7B%5Cn%20%20float%20val%20=%20toNormalized(getDataValue());%5Cn%20%20if%20(val%20%3C%20black)%20%7B%5Cn%20%20%20%20emitRGB(vec3(0,0,0));%5Cn%20%20%7D%20else%20if%20(val%20%3E%20white)%20%7B%5Cn%20%20%20%20emitRGB(vec3(1.0,%201.0,%201.0));%5Cn%20%20%7D%20else%20%7B%5Cn%20%20%20%20emitGrayscale(rescale(val));%5Cn%20%20%7D%5Cn%7D%5Cn%22%7D,%7B%22type%22:%22segmentation_with_graph%22,%22source%22:%22graphene://https://minnie.microns-daf.com/segmentation/table/minnie65_public%22,%22name%22:%22seg%22,%22selectedAlpha%22:0.3,%22objectAlpha%22:1.0,%22notSelectedAlpha%22:0.0%7D,%7B%22type%22:%22annotation%22,%22linkedSegmentationLayer%22:%22seg%22,%22filterBySegmentation%22:false,%22bracketShortcutsShowSegmentation%22:true,%22annotationSelectionShowsSegmentation%22:true,%22name%22:%22my_cells%22,%22annotations%22:%5B%7B%22tagIds%22:%5B%5D,%22type%22:%22point%22,%22point%22:%5B193632.0,207584.0,21793.0%5D,%22id%22:%22f4117eb4f5a7711ce8490b9a90323c13980efb48%22,%22segments%22:%5B%22864691135367970809%22%5D%7D,%7B%22tagIds%22:%5B%5D,%22type%22:%22point%22,%22point%22:%5B180544.0,196352.0,22612.0%5D,%22id%22:%220587a1c2080da148988677337408e8c5b84d8275%22,%22segments%22:%5B%22864691135916269926%22%5D%7D,%7B%22tagIds%22:%5B%5D,%22type%22:%22point%22,%22point%22:%5B178112.0,191344.0,22109.0%5D,%22id%22:%22f9c031b7d6109eb53d97d3d22bffed9861d1270c%22,%22segments%22:%5B%22864691135927049742%22%5D%7D,%7B%22tagIds%22:%5B%5D,%22type%22:%22point%22,%22point%22:%5B192016.0,202448.0,22622.0%5D,%22id%22:%22b32a7a2e275271235705765a4629c9fb3e427e8c%22,%22segments%22:%5B%22864691135616964457%22%5D%7D,%7B%22tagIds%22:%5B%5D,%22type%22:%22point%22,%22point%22:%5B178112.0,182224.0,20782.0%5D,%22id%22:%224e408e734cb2330da56279ddb31fbfa11a223109%22,%22segments%22:%5B%22864691135697223834%22%5D%7D,%7B%22tagIds%22:%5B%5D,%22type%22:%22point%22,%22point%22:%5B179776.0,198880.0,22450.0%5D,%22id%22:%2214fef9b2224a7e750b8b59af1bfbc5c50eee1874%22,%22segments%22:%5B%22864691135561621985%22%5D%7D,%7B%22tagIds%22:%5B%5D,%22type%22:%22point%22,%22point%22:%5B176352.0,207856.0,22440.0%5D,%22id%22:%228b5f2d0ae49995c8f0d63aeda275f3332fcd3441%22,%22segments%22:%5B%22864691135387704193%22%5D%7D,%7B%22tagIds%22:%5B%5D,%22type%22:%22point%22,%22point%22:%5B181568.0,212640.0,21847.0%5D,%22id%22:%22d355f7a35a8f12e3c89f1e85d70b72a67281b7b6%22,%22segments%22:%5B%22864691135105143629%22%5D%7D,%7B%22tagIds%22:%5B%5D,%22type%22:%22point%22,%22point%22:%5B178464.0,213008.0,20908.0%5D,%22id%22:%2246a8df3f3156b03fa9c61f01388b3b5fe32a93a2%22,%22segments%22:%5B%22864691135701528699%22%5D%7D,%7B%22tagIds%22:%5B%5D,%22type%22:%22point%22,%22point%22:%5B186128.0,210288.0,21828.0%5D,%22id%22:%228de9e7e81ad84fb4033702b95edfa0f0d68ce9aa%22,%22segments%22:%5B%22864691136124381734%22%5D%7D,%7B%22tagIds%22:%5B%5D,%22type%22:%22point%22,%22point%22:%5B187840.0,207232.0,22680.0%5D,%22id%22:%22f6963ce08d737041219d9aae5750e7dc66886d7b%22,%22segments%22:%5B%22864691135082322679%22%5D%7D,%7B%22tagIds%22:%5B%5D,%22type%22:%22point%22,%22point%22:%5B173136.0,185392.0,20931.0%5D,%22id%22:%224ecba48306cadf5eb8fe33080792ee79584add97%22,%22segments%22:%5B%22864691136040027902%22%5D%7D,%7B%22tagIds%22:%5B%5D,%22type%22:%22point%22,%22point%22:%5B175376.0,199104.0,22465.0%5D,%22id%22:%22e381f343a65f52a2f54426e432375fd8d0cb1a1d%22,%22segments%22:%5B%22864691136904098226%22%5D%7D,%7B%22tagIds%22:%5B%5D,%22type%22:%22point%22,%22point%22:%5B180336.0,189568.0,20921.0%5D,%22id%22:%22c58b553f39d865f0242a32a90050d1114aee9c65%22,%22segments%22:%5B%22864691135946651940%22%5D%7D,%7B%22tagIds%22:%5B%5D,%22type%22:%22point%22,%22point%22:%5B171952.0,196880.0,21777.0%5D,%22id%22:%22bacf7c18a0285455d8fa83e1222c25e726283a7e%22,%22segments%22:%5B%22864691134941063523%22%5D%7D,%7B%22tagIds%22:%5B%5D,%22type%22:%22point%22,%22point%22:%5B181952.0,207456.0,20474.0%5D,%22id%22:%2261b88ff61e8566477cd7a0788b27962033056abe%22,%22segments%22:%5B%22864691135293076662%22%5D%7D,%7B%22tagIds%22:%5B%5D,%22type%22:%22point%22,%22point%22:%5B175264.0,198256.0,21776.0%5D,%22id%22:%223f73fb1f8598ea14e70d0d6640edc2f5ecf4340f%22,%22segments%22:%5B%22864691134940999267%22%5D%7D,%7B%22tagIds%22:%5B%5D,%22type%22:%22point%22,%22point%22:%5B178848.0,204240.0,21385.0%5D,%22id%22:%22d0ba6fd773b4376c050a362aea7d93d15b80d5de%22,%22segments%22:%5B%22864691136452190463%22%5D%7D,%7B%22tagIds%22:%5B%5D,%22type%22:%22point%22,%22point%22:%5B188256.0,200192.0,20216.0%5D,%22id%22:%223425a097f3e0d5e51802346951dc6d9982138c67%22,%22segments%22:%5B%22864691135859797864%22%5D%7D,%7B%22tagIds%22:%5B%5D,%22type%22:%22point%22,%22point%22:%5B184048.0,198528.0,22493.0%5D,%22id%22:%22be5cae72774592e49887c092fcb3626dd0470e5b%22,%22segments%22:%5B%22864691135763046710%22%5D%7D,%7B%22tagIds%22:%5B%5D,%22type%22:%22point%22,%22point%22:%5B183456.0,202752.0,20953.0%5D,%22id%22:%224301a09eed539585a98a0bc32970b96f623c28ab%22,%22segments%22:%5B%22864691135473174834%22%5D%7D,%7B%22tagIds%22:%5B%5D,%22type%22:%22point%22,%22point%22:%5B184768.0,198896.0,21743.0%5D,%22id%22:%226528c78424ae41540388bcae91d075a4dfd62d82%22,%22segments%22:%5B%22864691135565831447%22%5D%7D,%7B%22tagIds%22:%5B%5D,%22type%22:%22point%22,%22point%22:%5B170096.0,205632.0,22825.0%5D,%22id%22:%22663e004ad5bbfe6405a859b2fae86c21689bde55%22,%22segments%22:%5B%22864691135927476692%22%5D%7D,%7B%22tagIds%22:%5B%5D,%22type%22:%22point%22,%22point%22:%5B186480.0,205552.0,21607.0%5D,%22id%22:%22ca47c3bb8e7a2083b56bc6f185e0b45edbb48a32%22,%22segments%22:%5B%22864691135477010344%22%5D%7D,%7B%22tagIds%22:%5B%5D,%22type%22:%22point%22,%22point%22:%5B184352.0,194032.0,21557.0%5D,%22id%22:%22dab58de52bc8588cbed5369b5e00b17f904f9299%22,%22segments%22:%5B%22864691134948633084%22%5D%7D,%7B%22tagIds%22:%5B%5D,%22type%22:%22point%22,%22point%22:%5B185264.0,198192.0,22188.0%5D,%22id%22:%22f275ec3089c6cd6d4b54a5b3e7ad16abf35f4ec6%22,%22segments%22:%5B%22864691135866737541%22%5D%7D,%7B%22tagIds%22:%5B%5D,%22type%22:%22point%22,%22point%22:%5B186272.0,194272.0,20412.0%5D,%22id%22:%22f51cccff40e4a7a6cb0c3587b76f355f700dd67c%22,%22segments%22:%5B%22864691136966800590%22%5D%7D,%7B%22tagIds%22:%5B%5D,%22type%22:%22point%22,%22point%22:%5B191744.0,201440.0,21606.0%5D,%22id%22:%2263aeb89edbc09c8c4cc0df3c96baa546dae56cbe%22,%22segments%22:%5B%22864691136066689688%22%5D%7D,%7B%22tagIds%22:%5B%5D,%22type%22:%22point%22,%22point%22:%5B174816.0,201840.0,20364.0%5D,%22id%22:%224921611d332212b5f8a7c52f630afc4ce6279851%22,%22segments%22:%5B%22864691135808451869%22%5D%7D,%7B%22tagIds%22:%5B%5D,%22type%22:%22point%22,%22point%22:%5B177120.0,197456.0,22127.0%5D,%22id%22:%2258abfcdb46183637462f10baf38f4857a66264c9%22,%22segments%22:%5B%22864691136210402748%22%5D%7D,%7B%22tagIds%22:%5B%5D,%22type%22:%22point%22,%22point%22:%5B169216.0,196416.0,20820.0%5D,%22id%22:%227292b5305b4dba7729f31ad5942cb66bfdae464c%22,%22segments%22:%5B%22864691135938356484%22%5D%7D,%7B%22tagIds%22:%5B%5D,%22type%22:%22point%22,%22point%22:%5B181184.0,194560.0,21112.0%5D,%22id%22:%2262a1e24260a8563555c9ec88737df702e90ee433%22,%22segments%22:%5B%22864691135926717710%22%5D%7D,%7B%22tagIds%22:%5B%5D,%22type%22:%22point%22,%22point%22:%5B183168.0,204576.0,21936.0%5D,%22id%22:%22c487ca7287df0d72f2a777ee26cda55300ae678d%22,%22segments%22:%5B%22864691136484016428%22%5D%7D,%7B%22tagIds%22:%5B%5D,%22type%22:%22point%22,%22point%22:%5B173008.0,205856.0,20391.0%5D,%22id%22:%22d1e56f98c5393363db16907eec2e5f9c3ec88ebf%22,%22segments%22:%5B%22864691135946156836%22%5D%7D,%7B%22tagIds%22:%5B%5D,%22type%22:%22point%22,%22point%22:%5B175376.0,203728.0,22239.0%5D,%22id%22:%222237ed515ad1a7401700d7b6912e1ac369e8377c%22,%22segments%22:%5B%22864691135182879746%22%5D%7D,%7B%22tagIds%22:%5B%5D,%22type%22:%22point%22,%22point%22:%5B185632.0,206224.0,22266.0%5D,%22id%22:%2273371492d28cd2ef384da955a1c9b3453e5874ef%22,%22segments%22:%5B%22864691136310417242%22%5D%7D,%7B%22tagIds%22:%5B%5D,%22type%22:%22point%22,%22point%22:%5B182864.0,195440.0,20817.0%5D,%22id%22:%228f9266ca908c258c4ba624fc888a3a2b9d58f9cc%22,%22segments%22:%5B%22864691135851941575%22%5D%7D,%7B%22tagIds%22:%5B%5D,%22type%22:%22point%22,%22point%22:%5B174592.0,206608.0,20768.0%5D,%22id%22:%2273d1d6adaa7209dcc80d334a7d1b1d39c3ba38ea%22,%22segments%22:%5B%22864691136195348812%22%5D%7D%5D%7D%5D,%22selectedLayer%22:%7B%22layer%22:%22my_cells%22,%22visible%22:true%7D%7D\" target=\"_blank\">Neuroglancer Link</a>"
      ],
      "text/plain": [
       "<IPython.core.display.HTML object>"
      ]
     },
     "execution_count": 12,
     "metadata": {},
     "output_type": "execute_result"
    }
   ],
   "source": [
    "sb.render_state(\n",
    "    data=l5pt_df,\n",
    "    return_as='html',\n",
    ")"
   ]
  },
  {
   "cell_type": "markdown",
   "id": "cd7463c4-4883-4662-8e52-674a420b77dc",
   "metadata": {},
   "source": [
    "Aha, here we are! Now we can see the points we asked for!\n",
    "\n",
    "But even better, this statebuilder just has _rules_, not data. So now we could pass different data without changing anything other than the dataframe we provide. For example, let's pick out inhibitory cells, which have the value `aibs_coarse_inhibitory` in the column `classification_system`."
   ]
  },
  {
   "cell_type": "code",
   "execution_count": 13,
   "id": "81256976-1a27-4ec5-8449-e85fa57a1dcc",
   "metadata": {},
   "outputs": [
    {
     "data": {
      "text/html": [
       "<a href=\"https://neuroglancer.neuvue.io#!%7B%22jsonStateServer%22:%22https://global.daf-apis.com/nglstate/api/v1/post%22,%22navigation%22:%7B%22pose%22:%7B%22position%22:%7B%22voxelSize%22:%5B4.0,4.0,40.0%5D,%22voxelCoordinates%22:%5B172512.0,175280.0,21964.0%5D%7D%7D,%22zoomFactor%22:2.0%7D,%22showSlices%22:false,%22layout%22:%22xy-3d%22,%22perspectiveZoom%22:2000.0,%22layers%22:%5B%7B%22type%22:%22image%22,%22source%22:%22precomputed://https://bossdb-open-data.s3.amazonaws.com/iarpa_microns/minnie/minnie65/em%22,%22name%22:%22img%22,%22shader%22:%22#uicontrol%20float%20black%20slider(min=0,%20max=1,%20default=0)%5Cn#uicontrol%20float%20white%20slider(min=0,%20max=1,%20default=1)%5Cnfloat%20rescale(float%20value)%20%7B%5Cn%20%20return%20(value%20-%20black)%20/%20(white%20-%20black);%5Cn%7D%5Cnvoid%20main()%20%7B%5Cn%20%20float%20val%20=%20toNormalized(getDataValue());%5Cn%20%20if%20(val%20%3C%20black)%20%7B%5Cn%20%20%20%20emitRGB(vec3(0,0,0));%5Cn%20%20%7D%20else%20if%20(val%20%3E%20white)%20%7B%5Cn%20%20%20%20emitRGB(vec3(1.0,%201.0,%201.0));%5Cn%20%20%7D%20else%20%7B%5Cn%20%20%20%20emitGrayscale(rescale(val));%5Cn%20%20%7D%5Cn%7D%5Cn%22%7D,%7B%22type%22:%22segmentation_with_graph%22,%22source%22:%22graphene://https://minnie.microns-daf.com/segmentation/table/minnie65_public%22,%22name%22:%22seg%22,%22selectedAlpha%22:0.3,%22objectAlpha%22:1.0,%22notSelectedAlpha%22:0.0%7D,%7B%22type%22:%22annotation%22,%22linkedSegmentationLayer%22:%22seg%22,%22filterBySegmentation%22:false,%22bracketShortcutsShowSegmentation%22:true,%22annotationSelectionShowsSegmentation%22:true,%22name%22:%22my_cells%22,%22annotations%22:%5B%7B%22tagIds%22:%5B%5D,%22type%22:%22point%22,%22point%22:%5B172512.0,175280.0,21964.0%5D,%22id%22:%22ab8ef1d1589d2b86c4ef3cf031c7d5aeba634e5d%22,%22segments%22:%5B%22864691135654475970%22%5D%7D,%7B%22tagIds%22:%5B%5D,%22type%22:%22point%22,%22point%22:%5B179792.0,215664.0,22864.0%5D,%22id%22:%22650bfe3414af4161640a5d76b7e759d77539beda%22,%22segments%22:%5B%22864691135404114414%22%5D%7D,%7B%22tagIds%22:%5B%5D,%22type%22:%22point%22,%22point%22:%5B173360.0,159856.0,22024.0%5D,%22id%22:%22742b5da6581aa13a0ebeac51e05baec91b653897%22,%22segments%22:%5B%22864691135279181729%22%5D%7D,%7B%22tagIds%22:%5B%5D,%22type%22:%22point%22,%22point%22:%5B172624.0,126960.0,20812.0%5D,%22id%22:%2281f1196b5364aa7b8f6d4dfa3a276a62557aa22c%22,%22segments%22:%5B%22864691135572499493%22%5D%7D,%7B%22tagIds%22:%5B%5D,%22type%22:%22point%22,%22point%22:%5B195424.0,223792.0,23343.0%5D,%22id%22:%22965d50b5c87923fc84fd2418f74b97077f807602%22,%22segments%22:%5B%22864691135777016928%22%5D%7D,%7B%22tagIds%22:%5B%5D,%22type%22:%22point%22,%22point%22:%5B179792.0,179488.0,20946.0%5D,%22id%22:%2292089d53a9034f3d8b2fbb42536cedbd965bf9a6%22,%22segments%22:%5B%22864691135865968005%22%5D%7D,%7B%22tagIds%22:%5B%5D,%22type%22:%22point%22,%22point%22:%5B191120.0,109792.0,21792.0%5D,%22id%22:%22850d2d07eb931b3fe1aea5a311181e60fa3e3ea2%22,%22segments%22:%5B%22864691135848903518%22%5D%7D,%7B%22tagIds%22:%5B%5D,%22type%22:%22point%22,%22point%22:%5B185920.0,257680.0,22934.0%5D,%22id%22:%22b4a77e3424c6ca0c0858179c436b76fec754735d%22,%22segments%22:%5B%22864691135939924646%22%5D%7D,%7B%22tagIds%22:%5B%5D,%22type%22:%22point%22,%22point%22:%5B196288.0,247568.0,24687.0%5D,%22id%22:%220623d53bd61365b94dfa2bfeabb8f7e46ae8f9cb%22,%22segments%22:%5B%22864691136483201580%22%5D%7D,%7B%22tagIds%22:%5B%5D,%22type%22:%22point%22,%22point%22:%5B180752.0,135200.0,22612.0%5D,%22id%22:%22a372c64c111155365e3d86b8ff5c60e90dea1a80%22,%22segments%22:%5B%22864691135490940135%22%5D%7D,%7B%22tagIds%22:%5B%5D,%22type%22:%22point%22,%22point%22:%5B177936.0,215664.0,21555.0%5D,%22id%22:%22736bf1fd1aeae345c8b7f7ae4adc81389d22aa0b%22,%22segments%22:%5B%22864691135374222153%22%5D%7D,%7B%22tagIds%22:%5B%5D,%22type%22:%22point%22,%22point%22:%5B181680.0,160112.0,21810.0%5D,%22id%22:%229c933053576fe643c816bb1654aae65b27dc35c1%22,%22segments%22:%5B%22864691135857273902%22%5D%7D,%7B%22tagIds%22:%5B%5D,%22type%22:%22point%22,%22point%22:%5B178176.0,152192.0,20167.0%5D,%22id%22:%221c60ec2644075a3daee4e528930d89f444c9dbe2%22,%22segments%22:%5B%22864691137197329985%22%5D%7D,%7B%22tagIds%22:%5B%5D,%22type%22:%22point%22,%22point%22:%5B189040.0,118352.0,21048.0%5D,%22id%22:%22e58b525118a756377b504ed381872e8eae057dfa%22,%22segments%22:%5B%22864691136020729592%22%5D%7D,%7B%22tagIds%22:%5B%5D,%22type%22:%22point%22,%22point%22:%5B168512.0,127088.0,20650.0%5D,%22id%22:%2237f8447fc2b55164a2ac28765417742cca6d7579%22,%22segments%22:%5B%22864691135809759436%22%5D%7D,%7B%22tagIds%22:%5B%5D,%22type%22:%22point%22,%22point%22:%5B175792.0,131824.0,21078.0%5D,%22id%22:%22dba5de7282278c193956eb3c58d84086fb990bdf%22,%22segments%22:%5B%22864691136662432990%22%5D%7D,%7B%22tagIds%22:%5B%5D,%22type%22:%22point%22,%22point%22:%5B177616.0,169296.0,20306.0%5D,%22id%22:%223859ed4545d8452831bae444a5a6c8c4de08550b%22,%22segments%22:%5B%22864691135490941927%22%5D%7D,%7B%22tagIds%22:%5B%5D,%22type%22:%22point%22,%22point%22:%5B185584.0,170240.0,21046.0%5D,%22id%22:%22eae7bd195fab507c2e0b8b3d471027104d31e55c%22,%22segments%22:%5B%22864691135014128278%22%5D%7D,%7B%22tagIds%22:%5B%5D,%22type%22:%22point%22,%22point%22:%5B197504.0,241840.0,23068.0%5D,%22id%22:%221ffd6ea0165c2a12b543fed8b15d9707e37949a3%22,%22segments%22:%5B%22864691135516181459%22%5D%7D,%7B%22tagIds%22:%5B%5D,%22type%22:%22point%22,%22point%22:%5B169008.0,203792.0,21087.0%5D,%22id%22:%2240f166ba0c0640b042f56b9d410c12c6cee911c8%22,%22segments%22:%5B%22864691135969342309%22%5D%7D,%7B%22tagIds%22:%5B%5D,%22type%22:%22point%22,%22point%22:%5B178528.0,89504.0,21709.0%5D,%22id%22:%2272e594ca78d8319b79a879984dcf8a97ae89e241%22,%22segments%22:%5B%22864691136723961597%22%5D%7D,%7B%22tagIds%22:%5B%5D,%22type%22:%22point%22,%22point%22:%5B180288.0,258960.0,23956.0%5D,%22id%22:%22196fe5358887ce55650e4c7e4485b34196fff783%22,%22segments%22:%5B%22864691135367662329%22%5D%7D,%7B%22tagIds%22:%5B%5D,%22type%22:%22point%22,%22point%22:%5B179792.0,97680.0,20633.0%5D,%22id%22:%228c1fd8a4e4ad351efc82ece92e275d6fa6bba7df%22,%22segments%22:%5B%22864691135518510218%22%5D%7D,%7B%22tagIds%22:%5B%5D,%22type%22:%22point%22,%22point%22:%5B170608.0,151712.0,21647.0%5D,%22id%22:%22962ed2e1902fd0b0264b0f74be9af04c1c1f9fd9%22,%22segments%22:%5B%22864691136371168136%22%5D%7D,%7B%22tagIds%22:%5B%5D,%22type%22:%22point%22,%22point%22:%5B170352.0,192608.0,20580.0%5D,%22id%22:%22337c0344108086a16845ed6c1b21a07f57af0abf%22,%22segments%22:%5B%22864691135374556872%22%5D%7D,%7B%22tagIds%22:%5B%5D,%22type%22:%22point%22,%22point%22:%5B174720.0,152224.0,21821.0%5D,%22id%22:%22ad3290faf360fb4294747f8f19714a6161d36742%22,%22segments%22:%5B%22864691135273485073%22%5D%7D,%7B%22tagIds%22:%5B%5D,%22type%22:%22point%22,%22point%22:%5B169488.0,174880.0,20977.0%5D,%22id%22:%223c8fc357ae4dfb2031cfbcc31b4d6f6a5973be4b%22,%22segments%22:%5B%22864691136008567724%22%5D%7D,%7B%22tagIds%22:%5B%5D,%22type%22:%22point%22,%22point%22:%5B179936.0,253344.0,24349.0%5D,%22id%22:%22ed66704c27a5f4d42a2a0f6e2ccaf3ab8936ab1f%22,%22segments%22:%5B%22864691135693735103%22%5D%7D,%7B%22tagIds%22:%5B%5D,%22type%22:%22point%22,%22point%22:%5B171712.0,189168.0,21053.0%5D,%22id%22:%228f30061075e5e0da6075ec0c1e832ef223ebcf97%22,%22segments%22:%5B%22864691135394307317%22%5D%7D,%7B%22tagIds%22:%5B%5D,%22type%22:%22point%22,%22point%22:%5B176080.0,118192.0,21795.0%5D,%22id%22:%229789aed96f6143dcebfa89de32641dddd359f481%22,%22segments%22:%5B%22864691135163315501%22%5D%7D,%7B%22tagIds%22:%5B%5D,%22type%22:%22point%22,%22point%22:%5B194896.0,229632.0,21944.0%5D,%22id%22:%22534501a5ab48a04c5c6b83d048d121697b014744%22,%22segments%22:%5B%22864691135885014384%22%5D%7D,%7B%22tagIds%22:%5B%5D,%22type%22:%22point%22,%22point%22:%5B196320.0,225280.0,22165.0%5D,%22id%22:%22bbded81cb1f1b5b71c181c92e5179c2bc23a664a%22,%22segments%22:%5B%22864691135292201142%22%5D%7D,%7B%22tagIds%22:%5B%5D,%22type%22:%22point%22,%22point%22:%5B179392.0,131872.0,20955.0%5D,%22id%22:%220000aa3add9f21df1cbfc9e56ab1d8a3ad8c1854%22,%22segments%22:%5B%22864691135568797676%22%5D%7D,%7B%22tagIds%22:%5B%5D,%22type%22:%22point%22,%22point%22:%5B181792.0,92752.0,22125.0%5D,%22id%22:%22e176d6f9b568ca023276effa63a338369ccb6f1f%22,%22segments%22:%5B%22864691135988854016%22%5D%7D,%7B%22tagIds%22:%5B%5D,%22type%22:%22point%22,%22point%22:%5B183920.0,182432.0,22462.0%5D,%22id%22:%22eb8e6e54c27d98967576d7fde98ff4a6ae2557eb%22,%22segments%22:%5B%22864691135387648385%22%5D%7D,%7B%22tagIds%22:%5B%5D,%22type%22:%22point%22,%22point%22:%5B184032.0,125632.0,22246.0%5D,%22id%22:%221214524f52f4214f69b02a551c0c9576a35596a5%22,%22segments%22:%5B%22864691135975705199%22%5D%7D,%7B%22tagIds%22:%5B%5D,%22type%22:%22point%22,%22point%22:%5B190896.0,95424.0,21808.0%5D,%22id%22:%225f111d086b4caeebe2550464a71776e097f65b3e%22,%22segments%22:%5B%22864691135564891159%22%5D%7D,%7B%22tagIds%22:%5B%5D,%22type%22:%22point%22,%22point%22:%5B170640.0,198688.0,20906.0%5D,%22id%22:%22413a9c7de93d69a39178ba9e88daa2f53f6db4b2%22,%22segments%22:%5B%22864691136273259454%22%5D%7D,%7B%22tagIds%22:%5B%5D,%22type%22:%22point%22,%22point%22:%5B178480.0,188832.0,21101.0%5D,%22id%22:%22af3aa87ae9f54fff9c4f589b22e529c0260c29f6%22,%22segments%22:%5B%22864691135969447781%22%5D%7D,%7B%22tagIds%22:%5B%5D,%22type%22:%22point%22,%22point%22:%5B171248.0,197696.0,20273.0%5D,%22id%22:%22540ee4a3c98ae194ded3475a099c8b2bc71ea301%22,%22segments%22:%5B%22864691135969582181%22%5D%7D,%7B%22tagIds%22:%5B%5D,%22type%22:%22point%22,%22point%22:%5B193056.0,168768.0,21792.0%5D,%22id%22:%2237c51c074b64c4e92c6cb0e43183dc0e3254f945%22,%22segments%22:%5B%22864691135162585389%22%5D%7D,%7B%22tagIds%22:%5B%5D,%22type%22:%22point%22,%22point%22:%5B191040.0,224880.0,22028.0%5D,%22id%22:%226aa9d31eea4d43f7daf2788aefea9221c5099d75%22,%22segments%22:%5B%22864691136089287735%22%5D%7D,%7B%22tagIds%22:%5B%5D,%22type%22:%22point%22,%22point%22:%5B191024.0,206656.0,21021.0%5D,%22id%22:%221581f2c3c7032addad062faeed1709c3a8ffb4d4%22,%22segments%22:%5B%22864691135926631636%22%5D%7D,%7B%22tagIds%22:%5B%5D,%22type%22:%22point%22,%22point%22:%5B190992.0,142992.0,20657.0%5D,%22id%22:%22d84289564582f706920cef16353a7f5a20b8e8ec%22,%22segments%22:%5B%22864691135494434448%22%5D%7D,%7B%22tagIds%22:%5B%5D,%22type%22:%22point%22,%22point%22:%5B185856.0,110288.0,20415.0%5D,%22id%22:%2256977cb3ba39c556db0fd78abfe7f420fefb7893%22,%22segments%22:%5B%22864691135182900482%22%5D%7D,%7B%22tagIds%22:%5B%5D,%22type%22:%22point%22,%22point%22:%5B178144.0,164992.0,22469.0%5D,%22id%22:%22b79147cf8f6d22eabe654462b8c7aa296068259c%22,%22segments%22:%5B%22864691136436788382%22%5D%7D,%7B%22tagIds%22:%5B%5D,%22type%22:%22point%22,%22point%22:%5B189600.0,192320.0,21518.0%5D,%22id%22:%228bc47c8c2a541fa873a66f3c999ece6af255b5d9%22,%22segments%22:%5B%22864691137053906294%22%5D%7D,%7B%22tagIds%22:%5B%5D,%22type%22:%22point%22,%22point%22:%5B172192.0,189648.0,21784.0%5D,%22id%22:%22a5d7e28d46dd79919726068d617a8059e56b7d8f%22,%22segments%22:%5B%22864691135511632080%22%5D%7D,%7B%22tagIds%22:%5B%5D,%22type%22:%22point%22,%22point%22:%5B192336.0,214912.0,23313.0%5D,%22id%22:%223f4a028d6c17f35aa8427f0fa0cd2d41e7ec1a66%22,%22segments%22:%5B%22864691135577304325%22%5D%7D,%7B%22tagIds%22:%5B%5D,%22type%22:%22point%22,%22point%22:%5B180528.0,242928.0,22535.0%5D,%22id%22:%224756e17dcf54a0365ee8170a6addd90ce5313fae%22,%22segments%22:%5B%22864691135082074359%22%5D%7D,%7B%22tagIds%22:%5B%5D,%22type%22:%22point%22,%22point%22:%5B170192.0,182624.0,21778.0%5D,%22id%22:%22ebe9086b2f1fa287629ad777b74e503ee83a2634%22,%22segments%22:%5B%22864691135576270110%22%5D%7D,%7B%22tagIds%22:%5B%5D,%22type%22:%22point%22,%22point%22:%5B190864.0,188784.0,20152.0%5D,%22id%22:%224f4ee8139a3d770c95759adcfbaa2225b98214c1%22,%22segments%22:%5B%22864691135575425822%22%5D%7D,%7B%22tagIds%22:%5B%5D,%22type%22:%22point%22,%22point%22:%5B171488.0,139312.0,21678.0%5D,%22id%22:%223f5959d56c861900073a41d83018d77592c92d7a%22,%22segments%22:%5B%22864691135100167712%22%5D%7D,%7B%22tagIds%22:%5B%5D,%22type%22:%22point%22,%22point%22:%5B179504.0,186592.0,20783.0%5D,%22id%22:%2223556000993a809405904a83c5df377f0efe9c43%22,%22segments%22:%5B%22864691136210378684%22%5D%7D,%7B%22tagIds%22:%5B%5D,%22type%22:%22point%22,%22point%22:%5B182384.0,208608.0,22961.0%5D,%22id%22:%222836008e2ba63d07b0e0d7671c3377b87567d04f%22,%22segments%22:%5B%22864691136723962621%22%5D%7D,%7B%22tagIds%22:%5B%5D,%22type%22:%22point%22,%22point%22:%5B185568.0,153872.0,20140.0%5D,%22id%22:%2224a6ed7394d5cb14e47f688a83b2abb459fbcd05%22,%22segments%22:%5B%22864691135489264442%22%5D%7D,%7B%22tagIds%22:%5B%5D,%22type%22:%22point%22,%22point%22:%5B178944.0,230480.0,22105.0%5D,%22id%22:%22f1cfc65cb24b0229ea1d6bd04b304cc14b3eb0b4%22,%22segments%22:%5B%22864691135565770007%22%5D%7D,%7B%22tagIds%22:%5B%5D,%22type%22:%22point%22,%22point%22:%5B178752.0,204992.0,21876.0%5D,%22id%22:%226f854dfe98ee9be79a4afd6ece00d4641c9065a1%22,%22segments%22:%5B%22864691135105179725%22%5D%7D,%7B%22tagIds%22:%5B%5D,%22type%22:%22point%22,%22point%22:%5B187072.0,144336.0,20909.0%5D,%22id%22:%22908728a186b44e236f789bf8667b2c6679915054%22,%22segments%22:%5B%22864691136388711031%22%5D%7D,%7B%22tagIds%22:%5B%5D,%22type%22:%22point%22,%22point%22:%5B169584.0,207744.0,20690.0%5D,%22id%22:%226f307ef27f8e291b1107f1978a9e02415cbcc564%22,%22segments%22:%5B%22864691136423071535%22%5D%7D,%7B%22tagIds%22:%5B%5D,%22type%22:%22point%22,%22point%22:%5B172368.0,95616.0,20987.0%5D,%22id%22:%22732476af72a068fedad7c9c8d66ae0b1cab24010%22,%22segments%22:%5B%22864691135303514791%22%5D%7D,%7B%22tagIds%22:%5B%5D,%22type%22:%22point%22,%22point%22:%5B187824.0,240512.0,22174.0%5D,%22id%22:%228721bf86af65cd4ff04d11bd8abde089072d2c95%22,%22segments%22:%5B%22864691135446864980%22%5D%7D,%7B%22tagIds%22:%5B%5D,%22type%22:%22point%22,%22point%22:%5B176368.0,188864.0,21766.0%5D,%22id%22:%228bcf8302e1b7664fd2b033de24cba321f2b3b0f2%22,%22segments%22:%5B%22864691136444888195%22%5D%7D,%7B%22tagIds%22:%5B%5D,%22type%22:%22point%22,%22point%22:%5B172464.0,175072.0,20483.0%5D,%22id%22:%2212b4fd8495a318b912e0233717f2cbeca16ab352%22,%22segments%22:%5B%22864691137197468481%22%5D%7D,%7B%22tagIds%22:%5B%5D,%22type%22:%22point%22,%22point%22:%5B188048.0,123136.0,20983.0%5D,%22id%22:%224fa5d73f97c43a1b43ce51eed1b8f81597097a0e%22,%22segments%22:%5B%22864691136452054015%22%5D%7D,%7B%22tagIds%22:%5B%5D,%22type%22:%22point%22,%22point%22:%5B168640.0,158976.0,22594.0%5D,%22id%22:%22cc1dd94c97ad93d03895115cdd6355662d011d72%22,%22segments%22:%5B%22864691135610188295%22%5D%7D,%7B%22tagIds%22:%5B%5D,%22type%22:%22point%22,%22point%22:%5B200224.0,263424.0,25547.0%5D,%22id%22:%229b905352df7924a3b685c03203111da085454cae%22,%22segments%22:%5B%22864691135163477037%22%5D%7D,%7B%22tagIds%22:%5B%5D,%22type%22:%22point%22,%22point%22:%5B175264.0,183856.0,20192.0%5D,%22id%22:%22835b5d4b73cef406c355b3eb8ea080044869f292%22,%22segments%22:%5B%22864691135408247241%22%5D%7D,%7B%22tagIds%22:%5B%5D,%22type%22:%22point%22,%22point%22:%5B195744.0,235728.0,22961.0%5D,%22id%22:%22e47cc1df56be84ac196465f18f53c3fc5ee4d0a2%22,%22segments%22:%5B%22864691135509890057%22%5D%7D,%7B%22tagIds%22:%5B%5D,%22type%22:%22point%22,%22point%22:%5B191712.0,136928.0,22487.0%5D,%22id%22:%224438e37ba84a675d892e9983f26116e48a42cab7%22,%22segments%22:%5B%22864691136371491976%22%5D%7D,%7B%22tagIds%22:%5B%5D,%22type%22:%22point%22,%22point%22:%5B187392.0,183984.0,22496.0%5D,%22id%22:%22c9d6cfcbd14828f796b7a8007282b536b998261a%22,%22segments%22:%5B%22864691136066728600%22%5D%7D,%7B%22tagIds%22:%5B%5D,%22type%22:%22point%22,%22point%22:%5B189680.0,129712.0,22145.0%5D,%22id%22:%2264f0cf24dc6e7c63e5ae68e2c36f2df780ea93a2%22,%22segments%22:%5B%22864691135323237532%22%5D%7D,%7B%22tagIds%22:%5B%5D,%22type%22:%22point%22,%22point%22:%5B185552.0,148944.0,20382.0%5D,%22id%22:%225473358240e2e9f2a851c9f3625bfd1da59ba24e%22,%22segments%22:%5B%22864691136084466796%22%5D%7D,%7B%22tagIds%22:%5B%5D,%22type%22:%22point%22,%22point%22:%5B181984.0,240832.0,24349.0%5D,%22id%22:%2213c58c8971692b9711b8299e8a6a0c52e45b6be1%22,%22segments%22:%5B%22864691136903387826%22%5D%7D,%7B%22tagIds%22:%5B%5D,%22type%22:%22point%22,%22point%22:%5B175616.0,144976.0,22055.0%5D,%22id%22:%2280963d8e049fbbaa6daa810500471102ee6f52c1%22,%22segments%22:%5B%22864691135544892200%22%5D%7D,%7B%22tagIds%22:%5B%5D,%22type%22:%22point%22,%22point%22:%5B172752.0,163920.0,22153.0%5D,%22id%22:%22ccff888f491892e91891b2a8ee433264c4d8fce7%22,%22segments%22:%5B%22864691135659000450%22%5D%7D,%7B%22tagIds%22:%5B%5D,%22type%22:%22point%22,%22point%22:%5B176064.0,130512.0,22031.0%5D,%22id%22:%22f0ba96c5d63f68aa820fd5bd1a1766a49ddda0e5%22,%22segments%22:%5B%22864691135489383226%22%5D%7D,%7B%22tagIds%22:%5B%5D,%22type%22:%22point%22,%22point%22:%5B189824.0,116768.0,21967.0%5D,%22id%22:%22d4995dd0a3f5f400528e8903e8058bb5eca149aa%22,%22segments%22:%5B%22864691137020151406%22%5D%7D,%7B%22tagIds%22:%5B%5D,%22type%22:%22point%22,%22point%22:%5B171952.0,130464.0,21938.0%5D,%22id%22:%22bc1e1e2779581b909efd3a8bb2353e61fca32bd8%22,%22segments%22:%5B%22864691135783071283%22%5D%7D,%7B%22tagIds%22:%5B%5D,%22type%22:%22point%22,%22point%22:%5B176016.0,95024.0,22051.0%5D,%22id%22:%225fcdd5bd43ada64959dfe920134f57c1252755ce%22,%22segments%22:%5B%22864691135976155459%22%5D%7D,%7B%22tagIds%22:%5B%5D,%22type%22:%22point%22,%22point%22:%5B190560.0,243792.0,23078.0%5D,%22id%22:%22db5721f49b4b1735c76ef4ea1fb363f50e7342e4%22,%22segments%22:%5B%22864691135807628573%22%5D%7D,%7B%22tagIds%22:%5B%5D,%22type%22:%22point%22,%22point%22:%5B178000.0,230464.0,21610.0%5D,%22id%22:%22d479d7a14df5c8b246a75c98183d72c62679e5db%22,%22segments%22:%5B%22864691137020205166%22%5D%7D,%7B%22tagIds%22:%5B%5D,%22type%22:%22point%22,%22point%22:%5B189456.0,177392.0,22310.0%5D,%22id%22:%22a00a47e19a57f94464aa450ebf5dbf83c23d848e%22,%22segments%22:%5B%22864691136724121597%22%5D%7D,%7B%22tagIds%22:%5B%5D,%22type%22:%22point%22,%22point%22:%5B170240.0,95424.0,22188.0%5D,%22id%22:%2212f608c44974daafd0c7f62339ab0f2ac51d7cd6%22,%22segments%22:%5B%22864691135915450982%22%5D%7D,%7B%22tagIds%22:%5B%5D,%22type%22:%22point%22,%22point%22:%5B168960.0,134400.0,21639.0%5D,%22id%22:%2250a7f6d22696d2d9648818d788c710bbbc3c5b4c%22,%22segments%22:%5B%22864691135341465029%22%5D%7D,%7B%22tagIds%22:%5B%5D,%22type%22:%22point%22,%22point%22:%5B189696.0,118960.0,21975.0%5D,%22id%22:%22406cf655e502304d08fa183b0e311e8e649a7e2e%22,%22segments%22:%5B%22864691135323181212%22%5D%7D,%7B%22tagIds%22:%5B%5D,%22type%22:%22point%22,%22point%22:%5B172880.0,133664.0,22221.0%5D,%22id%22:%22ec8964b8c3f81308f282fdbe3cc499ca678041fd%22,%22segments%22:%5B%22864691135855791662%22%5D%7D,%7B%22tagIds%22:%5B%5D,%22type%22:%22point%22,%22point%22:%5B171360.0,138880.0,21195.0%5D,%22id%22:%229840f71c1edb0071a9d2410f6d60b37b9ede0881%22,%22segments%22:%5B%22864691136618908301%22%5D%7D,%7B%22tagIds%22:%5B%5D,%22type%22:%22point%22,%22point%22:%5B189184.0,234896.0,22722.0%5D,%22id%22:%22ceeb8b7f0f44cbfb4075de2931fa693d46a41949%22,%22segments%22:%5B%22864691135355455183%22%5D%7D,%7B%22tagIds%22:%5B%5D,%22type%22:%22point%22,%22point%22:%5B174432.0,200608.0,21567.0%5D,%22id%22:%22b3ead4a4d452c3754c611cf8222a959fd317ab6f%22,%22segments%22:%5B%22864691135194735914%22%5D%7D,%7B%22tagIds%22:%5B%5D,%22type%22:%22point%22,%22point%22:%5B190512.0,90448.0,21434.0%5D,%22id%22:%222dd64c84d301d76614b121790a75d20e8b616e57%22,%22segments%22:%5B%22864691135571154925%22%5D%7D,%7B%22tagIds%22:%5B%5D,%22type%22:%22point%22,%22point%22:%5B174032.0,225648.0,22347.0%5D,%22id%22:%22a41ddd31d2e21d11d52a9cc4bf116cffa3c384d7%22,%22segments%22:%5B%22864691135954232584%22%5D%7D,%7B%22tagIds%22:%5B%5D,%22type%22:%22point%22,%22point%22:%5B171888.0,209344.0,22995.0%5D,%22id%22:%22ff3a3353c2cb916372dc36a7871f77d6bbdeed04%22,%22segments%22:%5B%22864691134965471007%22%5D%7D,%7B%22tagIds%22:%5B%5D,%22type%22:%22point%22,%22point%22:%5B191904.0,188112.0,22101.0%5D,%22id%22:%22553082a617e1db44e26e25b9b26bbc4647955c7b%22,%22segments%22:%5B%22864691136602069713%22%5D%7D,%7B%22tagIds%22:%5B%5D,%22type%22:%22point%22,%22point%22:%5B184432.0,116416.0,21136.0%5D,%22id%22:%22be396e40b8ec56140ed78b04b999e413ebf1ebd0%22,%22segments%22:%5B%22864691135685300407%22%5D%7D,%7B%22tagIds%22:%5B%5D,%22type%22:%22point%22,%22point%22:%5B192016.0,189408.0,20661.0%5D,%22id%22:%2246e3723fc9814c267f13f6e7b58c609930e7ce93%22,%22segments%22:%5B%22864691135428878640%22%5D%7D,%7B%22tagIds%22:%5B%5D,%22type%22:%22point%22,%22point%22:%5B177472.0,182816.0,22269.0%5D,%22id%22:%224ed49afe5e04a8633d963565117753ccbfedfcf6%22,%22segments%22:%5B%22864691135561619681%22%5D%7D,%7B%22tagIds%22:%5B%5D,%22type%22:%22point%22,%22point%22:%5B190608.0,216960.0,21321.0%5D,%22id%22:%223be491393bef4b6793336f2e969cdb69a38ffd99%22,%22segments%22:%5B%22864691135781152848%22%5D%7D,%7B%22tagIds%22:%5B%5D,%22type%22:%22point%22,%22point%22:%5B173552.0,172112.0,21616.0%5D,%22id%22:%22edadad5315fe8557939be38da8ab1fa7d9708eaa%22,%22segments%22:%5B%22864691135517755274%22%5D%7D,%7B%22tagIds%22:%5B%5D,%22type%22:%22point%22,%22point%22:%5B174704.0,165104.0,20328.0%5D,%22id%22:%22dbe36423870795c3c8c7f06368176ea538af016f%22,%22segments%22:%5B%22864691135359413848%22%5D%7D,%7B%22tagIds%22:%5B%5D,%22type%22:%22point%22,%22point%22:%5B192496.0,166560.0,20781.0%5D,%22id%22:%227d62d367bff545ee01f401e3530c3904697bcf67%22,%22segments%22:%5B%22864691135859020392%22%5D%7D,%7B%22tagIds%22:%5B%5D,%22type%22:%22point%22,%22point%22:%5B190960.0,253120.0,23139.0%5D,%22id%22:%22eb2af41d64c9819b179a0d35b3d93679cc15076e%22,%22segments%22:%5B%22864691135293398284%22%5D%7D,%7B%22tagIds%22:%5B%5D,%22type%22:%22point%22,%22point%22:%5B183344.0,171360.0,21368.0%5D,%22id%22:%22de35fdd9c004a093055c5a2bc8c9ff011f88927b%22,%22segments%22:%5B%22864691135754773709%22%5D%7D,%7B%22tagIds%22:%5B%5D,%22type%22:%22point%22,%22point%22:%5B199200.0,232352.0,23009.0%5D,%22id%22:%22381cd1019e86fe9cf8a19c01e3920da919e6cb93%22,%22segments%22:%5B%22864691136227297105%22%5D%7D,%7B%22tagIds%22:%5B%5D,%22type%22:%22point%22,%22point%22:%5B186656.0,186400.0,21142.0%5D,%22id%22:%2276fe8ca9361d175011f516a8285c5a075ef1592d%22,%22segments%22:%5B%22864691135940249601%22%5D%7D,%7B%22tagIds%22:%5B%5D,%22type%22:%22point%22,%22point%22:%5B192384.0,216944.0,21284.0%5D,%22id%22:%22cfd82810eca3a14869962c6278e7e86dafd71c2e%22,%22segments%22:%5B%22864691136009693102%22%5D%7D,%7B%22tagIds%22:%5B%5D,%22type%22:%22point%22,%22point%22:%5B188960.0,245664.0,24467.0%5D,%22id%22:%22d9eee90a810e9908d2dee06305832fefe4d5470f%22,%22segments%22:%5B%22864691135472556082%22%5D%7D,%7B%22tagIds%22:%5B%5D,%22type%22:%22point%22,%22point%22:%5B186352.0,149232.0,22124.0%5D,%22id%22:%22d8724cc7aeb004816e0dc75a712724f9e043aa95%22,%22segments%22:%5B%22864691135396580129%22%5D%7D,%7B%22tagIds%22:%5B%5D,%22type%22:%22point%22,%22point%22:%5B172240.0,181184.0,20446.0%5D,%22id%22:%22ad34454d854e057f6ad4ee5cc8d86d4373c77cb6%22,%22segments%22:%5B%22864691135416083642%22%5D%7D,%7B%22tagIds%22:%5B%5D,%22type%22:%22point%22,%22point%22:%5B170736.0,113344.0,21601.0%5D,%22id%22:%224983c0859263896451bbfc5943e19024a4a1e74d%22,%22segments%22:%5B%22864691135988773120%22%5D%7D,%7B%22tagIds%22:%5B%5D,%22type%22:%22point%22,%22point%22:%5B188240.0,161648.0,21466.0%5D,%22id%22:%22dedadce8abbf60803518ae43f3812af7da55e8bc%22,%22segments%22:%5B%22864691135195576362%22%5D%7D,%7B%22tagIds%22:%5B%5D,%22type%22:%22point%22,%22point%22:%5B188544.0,123584.0,20721.0%5D,%22id%22:%22a8388e412f661441f28448b7bf371769574a3d70%22,%22segments%22:%5B%22864691135660772080%22%5D%7D,%7B%22tagIds%22:%5B%5D,%22type%22:%22point%22,%22point%22:%5B176480.0,101824.0,20540.0%5D,%22id%22:%22162d90a1c4c52f68d2b44f261a16078d73217eb4%22,%22segments%22:%5B%22864691136143786292%22%5D%7D,%7B%22tagIds%22:%5B%5D,%22type%22:%22point%22,%22point%22:%5B185760.0,140784.0,22627.0%5D,%22id%22:%22bf12eaff1409391a2af2de1cd64d96fc1ae069c0%22,%22segments%22:%5B%22864691135953216547%22%5D%7D,%7B%22tagIds%22:%5B%5D,%22type%22:%22point%22,%22point%22:%5B190416.0,99456.0,20385.0%5D,%22id%22:%22d607970dddedb242b14c6b5363c5694f13829484%22,%22segments%22:%5B%22864691135132887456%22%5D%7D,%7B%22tagIds%22:%5B%5D,%22type%22:%22point%22,%22point%22:%5B183104.0,122128.0,20512.0%5D,%22id%22:%221f63ba6a978456b946c16a15db832701cd3c667f%22,%22segments%22:%5B%22864691136005322698%22%5D%7D,%7B%22tagIds%22:%5B%5D,%22type%22:%22point%22,%22point%22:%5B177328.0,184400.0,21991.0%5D,%22id%22:%22fbc2c099a3c77184fb4bbcd283106894b4563e8d%22,%22segments%22:%5B%22864691135492555359%22%5D%7D,%7B%22tagIds%22:%5B%5D,%22type%22:%22point%22,%22point%22:%5B192608.0,215280.0,22646.0%5D,%22id%22:%2248b01bda351aadacbe4dd8050ec2c97c50f5748a%22,%22segments%22:%5B%22864691136925825354%22%5D%7D,%7B%22tagIds%22:%5B%5D,%22type%22:%22point%22,%22point%22:%5B173584.0,145120.0,21127.0%5D,%22id%22:%22f898593d04634b86a26761be22e026679d17ab0f%22,%22segments%22:%5B%22864691135919440816%22%5D%7D,%7B%22tagIds%22:%5B%5D,%22type%22:%22point%22,%22point%22:%5B192736.0,181920.0,22366.0%5D,%22id%22:%229b3e7f4c8b37059f8dde3abab3428f02599a759a%22,%22segments%22:%5B%22864691135385703509%22%5D%7D,%7B%22tagIds%22:%5B%5D,%22type%22:%22point%22,%22point%22:%5B174448.0,119904.0,22272.0%5D,%22id%22:%221da40da240fc245a68a7059a7dc1025579253305%22,%22segments%22:%5B%22864691135954311176%22%5D%7D,%7B%22tagIds%22:%5B%5D,%22type%22:%22point%22,%22point%22:%5B192176.0,120944.0,22354.0%5D,%22id%22:%224e94fc1c81a8f9b7bf14394176bb560037d3ca23%22,%22segments%22:%5B%22864691135491529311%22%5D%7D,%7B%22tagIds%22:%5B%5D,%22type%22:%22point%22,%22point%22:%5B184208.0,114224.0,21914.0%5D,%22id%22:%22be8cc4b7ceaad9cafabd89c499de56581794c6b5%22,%22segments%22:%5B%22864691135777733216%22%5D%7D,%7B%22tagIds%22:%5B%5D,%22type%22:%22point%22,%22point%22:%5B173184.0,217472.0,21929.0%5D,%22id%22:%225232edec2cfbf2c93c2f339e5ecbfb3cd24c6d94%22,%22segments%22:%5B%22864691136195284556%22%5D%7D,%7B%22tagIds%22:%5B%5D,%22type%22:%22point%22,%22point%22:%5B175136.0,212800.0,20750.0%5D,%22id%22:%22b0704514a4297a55aa4d27fadbea8229c1b28dc2%22,%22segments%22:%5B%22864691136052055283%22%5D%7D,%7B%22tagIds%22:%5B%5D,%22type%22:%22point%22,%22point%22:%5B184256.0,217136.0,22396.0%5D,%22id%22:%2217c42d000790216308858cc23ab17dfeee5493ad%22,%22segments%22:%5B%22864691135856066862%22%5D%7D,%7B%22tagIds%22:%5B%5D,%22type%22:%22point%22,%22point%22:%5B169520.0,170016.0,21144.0%5D,%22id%22:%2243bd15338347c8b44e8ae33c249915ea0596c383%22,%22segments%22:%5B%22864691135013445270%22%5D%7D,%7B%22tagIds%22:%5B%5D,%22type%22:%22point%22,%22point%22:%5B184352.0,238080.0,24354.0%5D,%22id%22:%223c38a9b7f7424e3d6446ec46d0124941c4d32ae2%22,%22segments%22:%5B%22864691135468031628%22%5D%7D,%7B%22tagIds%22:%5B%5D,%22type%22:%22point%22,%22point%22:%5B168448.0,154320.0,20451.0%5D,%22id%22:%22dc33bc30ee25a874be6a204ab5ae0b92e432fbd4%22,%22segments%22:%5B%22864691135386843521%22%5D%7D,%7B%22tagIds%22:%5B%5D,%22type%22:%22point%22,%22point%22:%5B191248.0,204224.0,22278.0%5D,%22id%22:%220d0a28b8b55d337f2d740a35294023adc38c629c%22,%22segments%22:%5B%22864691135947023969%22%5D%7D,%7B%22tagIds%22:%5B%5D,%22type%22:%22point%22,%22point%22:%5B192656.0,94768.0,20588.0%5D,%22id%22:%22e3a5a55b95e32b5724a796313da9bc4e86e3e3a2%22,%22segments%22:%5B%22864691135976729667%22%5D%7D,%7B%22tagIds%22:%5B%5D,%22type%22:%22point%22,%22point%22:%5B188896.0,242368.0,23814.0%5D,%22id%22:%22e8e68c0f8982037855b4a91209450732769d682a%22,%22segments%22:%5B%22864691135946994785%22%5D%7D,%7B%22tagIds%22:%5B%5D,%22type%22:%22point%22,%22point%22:%5B192784.0,182064.0,21087.0%5D,%22id%22:%2249e8aa041344742ebe3d966d118982016efd3f3b%22,%22segments%22:%5B%22864691135927509716%22%5D%7D,%7B%22tagIds%22:%5B%5D,%22type%22:%22point%22,%22point%22:%5B175616.0,153472.0,20823.0%5D,%22id%22:%22d07596e5bd5cadcc96533646d8067f486d1fa17e%22,%22segments%22:%5B%22864691135256626095%22%5D%7D,%7B%22tagIds%22:%5B%5D,%22type%22:%22point%22,%22point%22:%5B173744.0,151152.0,22254.0%5D,%22id%22:%2268e5c26e297eb2e0444dc1ee53d9ead6b0c17ddf%22,%22segments%22:%5B%22864691135857324590%22%5D%7D,%7B%22tagIds%22:%5B%5D,%22type%22:%22point%22,%22point%22:%5B182848.0,189392.0,21379.0%5D,%22id%22:%224b9b4423a93da35665cd1099c627ec64c5f10ed7%22,%22segments%22:%5B%22864691135808473885%22%5D%7D,%7B%22tagIds%22:%5B%5D,%22type%22:%22point%22,%22point%22:%5B192320.0,161120.0,21368.0%5D,%22id%22:%22c637406bc994b23800bd348361a0056c41bf8934%22,%22segments%22:%5B%22864691135367305465%22%5D%7D,%7B%22tagIds%22:%5B%5D,%22type%22:%22point%22,%22point%22:%5B176976.0,209584.0,21964.0%5D,%22id%22:%227eb87ea4d0b5a5e3a07637ce039aec83e88b1898%22,%22segments%22:%5B%22864691135693213119%22%5D%7D,%7B%22tagIds%22:%5B%5D,%22type%22:%22point%22,%22point%22:%5B177152.0,233216.0,23849.0%5D,%22id%22:%221ef7bf32ea37b73a8017235a51a48e233ce68c75%22,%22segments%22:%5B%22864691135988683008%22%5D%7D,%7B%22tagIds%22:%5B%5D,%22type%22:%22point%22,%22point%22:%5B180816.0,115200.0,20710.0%5D,%22id%22:%22270827c8c057e80e88f11e46fd4e3cb93f657b80%22,%22segments%22:%5B%22864691135807648541%22%5D%7D,%7B%22tagIds%22:%5B%5D,%22type%22:%22point%22,%22point%22:%5B188048.0,199488.0,21406.0%5D,%22id%22:%22aa0a1984df4d3454ff2162974da6092009c217d0%22,%22segments%22:%5B%22864691136578663444%22%5D%7D,%7B%22tagIds%22:%5B%5D,%22type%22:%22point%22,%22point%22:%5B176176.0,188032.0,20630.0%5D,%22id%22:%2261f8864b19600d332123a09603efb4e783359188%22,%22segments%22:%5B%22864691135571546917%22%5D%7D,%7B%22tagIds%22:%5B%5D,%22type%22:%22point%22,%22point%22:%5B184256.0,165088.0,20542.0%5D,%22id%22:%2273233d929d76ad49a8685884c0ae6e2ac64ad2c4%22,%22segments%22:%5B%22864691136904304306%22%5D%7D,%7B%22tagIds%22:%5B%5D,%22type%22:%22point%22,%22point%22:%5B183072.0,152832.0,22141.0%5D,%22id%22:%224c5a575a5e5a1c50e5b5b1fd8bd608dbeef3222a%22,%22segments%22:%5B%22864691135749617449%22%5D%7D,%7B%22tagIds%22:%5B%5D,%22type%22:%22point%22,%22point%22:%5B183744.0,160336.0,21231.0%5D,%22id%22:%228c7bb9821a16654d18368e83b9f7d2499aa5fc71%22,%22segments%22:%5B%22864691136106568409%22%5D%7D,%7B%22tagIds%22:%5B%5D,%22type%22:%22point%22,%22point%22:%5B169104.0,114144.0,20711.0%5D,%22id%22:%22e39136fded6836554c2b22f8b257a6b127fe08f4%22,%22segments%22:%5B%22864691135568328684%22%5D%7D,%7B%22tagIds%22:%5B%5D,%22type%22:%22point%22,%22point%22:%5B185968.0,165312.0,21220.0%5D,%22id%22:%22aa2f4de7a7cf99ee06b30d262a6697f6af70cc9a%22,%22segments%22:%5B%22864691135082840567%22%5D%7D,%7B%22tagIds%22:%5B%5D,%22type%22:%22point%22,%22point%22:%5B175280.0,194224.0,22230.0%5D,%22id%22:%22293dae85d2d5d5b01fd53523558a3123f711d609%22,%22segments%22:%5B%22864691135502190941%22%5D%7D,%7B%22tagIds%22:%5B%5D,%22type%22:%22point%22,%22point%22:%5B171712.0,156048.0,20707.0%5D,%22id%22:%22d1a097d33499a78bae7895a0ac44020405c9978c%22,%22segments%22:%5B%22864691135946995809%22%5D%7D,%7B%22tagIds%22:%5B%5D,%22type%22:%22point%22,%22point%22:%5B184384.0,218256.0,22840.0%5D,%22id%22:%22311ad87d0fb9a05ebbda43c2ffe303988d42edb9%22,%22segments%22:%5B%22864691135564911895%22%5D%7D,%7B%22tagIds%22:%5B%5D,%22type%22:%22point%22,%22point%22:%5B186032.0,193712.0,21887.0%5D,%22id%22:%2284780869207944d47ceeb822a3a4fae6f70e56ff%22,%22segments%22:%5B%22864691135416719546%22%5D%7D,%7B%22tagIds%22:%5B%5D,%22type%22:%22point%22,%22point%22:%5B185472.0,130880.0,21521.0%5D,%22id%22:%221496b2fc810dca4d9c4ff2802e547971a0805b8d%22,%22segments%22:%5B%22864691135274631397%22%5D%7D,%7B%22tagIds%22:%5B%5D,%22type%22:%22point%22,%22point%22:%5B185296.0,245952.0,24347.0%5D,%22id%22:%220bcba8383595c40587f9f8f08a5f1b6769f140f7%22,%22segments%22:%5B%22864691135082074103%22%5D%7D,%7B%22tagIds%22:%5B%5D,%22type%22:%22point%22,%22point%22:%5B184736.0,253008.0,24565.0%5D,%22id%22:%224ee065d842f75bd49a24e7b99e411de26c21d4b0%22,%22segments%22:%5B%22864691136990457749%22%5D%7D,%7B%22tagIds%22:%5B%5D,%22type%22:%22point%22,%22point%22:%5B191424.0,206112.0,22678.0%5D,%22id%22:%229162651ceb175722d4d4e2e14fc4933fec890d55%22,%22segments%22:%5B%22864691136273370302%22%5D%7D,%7B%22tagIds%22:%5B%5D,%22type%22:%22point%22,%22point%22:%5B186000.0,250032.0,24514.0%5D,%22id%22:%22ef2e46694160ed63f24595063aa92f2983c55385%22,%22segments%22:%5B%22864691135994804394%22%5D%7D,%7B%22tagIds%22:%5B%5D,%22type%22:%22point%22,%22point%22:%5B185168.0,212544.0,22228.0%5D,%22id%22:%22ca0057e5e85cb58e51339bc207a7684362e3c8c1%22,%22segments%22:%5B%22864691135992774593%22%5D%7D,%7B%22tagIds%22:%5B%5D,%22type%22:%22point%22,%22point%22:%5B190352.0,217696.0,21941.0%5D,%22id%22:%22243e330b4f72f39c271ef82eb15d59d5450aa36d%22,%22segments%22:%5B%22864691135701557115%22%5D%7D,%7B%22tagIds%22:%5B%5D,%22type%22:%22point%22,%22point%22:%5B182400.0,177392.0,21876.0%5D,%22id%22:%22342af7a9c75522baeee1010de90b8dd3babd3b1b%22,%22segments%22:%5B%22864691135975556719%22%5D%7D,%7B%22tagIds%22:%5B%5D,%22type%22:%22point%22,%22point%22:%5B192976.0,245600.0,22857.0%5D,%22id%22:%22c5d5e4213bc31650a358a95c3ee8379cb087f62b%22,%22segments%22:%5B%22864691135816038479%22%5D%7D,%7B%22tagIds%22:%5B%5D,%22type%22:%22point%22,%22point%22:%5B191984.0,221984.0,23401.0%5D,%22id%22:%223004ac1b369f897a3950ec05a169df3039bdafb0%22,%22segments%22:%5B%22864691136329289962%22%5D%7D,%7B%22tagIds%22:%5B%5D,%22type%22:%22point%22,%22point%22:%5B176816.0,202320.0,20616.0%5D,%22id%22:%2281a9fb7561bf0faacfd9a91d69ab7bc7ca20a3b9%22,%22segments%22:%5B%22864691135564974423%22%5D%7D,%7B%22tagIds%22:%5B%5D,%22type%22:%22point%22,%22point%22:%5B189984.0,230336.0,22357.0%5D,%22id%22:%2217f492e21cf1158a940c16dea0ab0f5412f3493d%22,%22segments%22:%5B%22864691136487168530%22%5D%7D,%7B%22tagIds%22:%5B%5D,%22type%22:%22point%22,%22point%22:%5B184192.0,200784.0,20797.0%5D,%22id%22:%22ce23bba4ff3177283dc6be4e5cc93a64cc6d00b4%22,%22segments%22:%5B%22864691135303399847%22%5D%7D%5D%7D%5D,%22selectedLayer%22:%7B%22layer%22:%22my_cells%22,%22visible%22:true%7D%7D\" target=\"_blank\">Neuroglancer Link</a>"
      ],
      "text/plain": [
       "<IPython.core.display.HTML object>"
      ]
     },
     "execution_count": 13,
     "metadata": {},
     "output_type": "execute_result"
    }
   ],
   "source": [
    "sb.render_state(\n",
    "    data=ct_df[ ct_df['classification_system'] == \"aibs_coarse_inhibitory\"],\n",
    "    return_as='html',\n",
    ")"
   ]
  },
  {
   "cell_type": "markdown",
   "id": "cc40e8d4-96f4-4c73-8816-ca4b9ef5b662",
   "metadata": {},
   "source": [
    "## Adding tags\n",
    "\n",
    "Pre-specified tags are useful for labeling data. We can pre-specify the tag options available in the links by adding a `tags` list of arguments."
   ]
  },
  {
   "cell_type": "code",
   "execution_count": 18,
   "id": "2e7d8421-5bde-4c8d-b4ef-0ad1af6bd2e9",
   "metadata": {},
   "outputs": [],
   "source": [
    "anno_w_tags = statebuilder.AnnotationLayerConfig(\n",
    "    name = 'my_cells',\n",
    "    linked_segmentation_layer=seg.name,\n",
    "    mapping_rules=statebuilder.PointMapper(\n",
    "        point_column='pt_position',\n",
    "        linked_segmentation_column='pt_root_id',\n",
    "    ),\n",
    "    tags=['nice', 'naughty'],\n",
    ")"
   ]
  },
  {
   "cell_type": "markdown",
   "id": "453489c6-693d-4508-a79d-bf50c83834de",
   "metadata": {},
   "source": [
    "Now we can use this in a statebuilder, and you can see that the annotation label"
   ]
  },
  {
   "cell_type": "code",
   "execution_count": 20,
   "id": "2235e521-792c-43a5-b079-761301e80f28",
   "metadata": {},
   "outputs": [
    {
     "data": {
      "text/html": [
       "<a href=\"https://neuroglancer.neuvue.io#!%7B%22jsonStateServer%22:%22https://global.daf-apis.com/nglstate/api/v1/post%22,%22navigation%22:%7B%22pose%22:%7B%22position%22:%7B%22voxelSize%22:%5B4.0,4.0,40.0%5D,%22voxelCoordinates%22:%5B172512.0,175280.0,21964.0%5D%7D%7D,%22zoomFactor%22:2.0%7D,%22showSlices%22:false,%22layout%22:%22xy-3d%22,%22perspectiveZoom%22:2000.0,%22layers%22:%5B%7B%22type%22:%22image%22,%22source%22:%22precomputed://https://bossdb-open-data.s3.amazonaws.com/iarpa_microns/minnie/minnie65/em%22,%22name%22:%22img%22,%22shader%22:%22#uicontrol%20float%20black%20slider(min=0,%20max=1,%20default=0)%5Cn#uicontrol%20float%20white%20slider(min=0,%20max=1,%20default=1)%5Cnfloat%20rescale(float%20value)%20%7B%5Cn%20%20return%20(value%20-%20black)%20/%20(white%20-%20black);%5Cn%7D%5Cnvoid%20main()%20%7B%5Cn%20%20float%20val%20=%20toNormalized(getDataValue());%5Cn%20%20if%20(val%20%3C%20black)%20%7B%5Cn%20%20%20%20emitRGB(vec3(0,0,0));%5Cn%20%20%7D%20else%20if%20(val%20%3E%20white)%20%7B%5Cn%20%20%20%20emitRGB(vec3(1.0,%201.0,%201.0));%5Cn%20%20%7D%20else%20%7B%5Cn%20%20%20%20emitGrayscale(rescale(val));%5Cn%20%20%7D%5Cn%7D%5Cn%22%7D,%7B%22type%22:%22segmentation_with_graph%22,%22source%22:%22graphene://https://minnie.microns-daf.com/segmentation/table/minnie65_public%22,%22name%22:%22seg%22,%22selectedAlpha%22:0.3,%22objectAlpha%22:1.0,%22notSelectedAlpha%22:0.0%7D,%7B%22type%22:%22annotation%22,%22linkedSegmentationLayer%22:%22seg%22,%22filterBySegmentation%22:false,%22bracketShortcutsShowSegmentation%22:true,%22annotationSelectionShowsSegmentation%22:true,%22name%22:%22my_cells%22,%22annotationTags%22:%5B%7B%22id%22:1,%22label%22:%22nice%22%7D,%7B%22id%22:2,%22label%22:%22naughty%22%7D%5D,%22annotations%22:%5B%7B%22tagIds%22:%5B%5D,%22type%22:%22point%22,%22point%22:%5B172512.0,175280.0,21964.0%5D,%22id%22:%22a9d8e304594a90dd0221c84d034fa66927d13c10%22,%22segments%22:%5B%22864691135654475970%22%5D%7D,%7B%22tagIds%22:%5B%5D,%22type%22:%22point%22,%22point%22:%5B179792.0,215664.0,22864.0%5D,%22id%22:%221ab79962a37ee261d015c6f3cff2958e212a8c68%22,%22segments%22:%5B%22864691135404114414%22%5D%7D,%7B%22tagIds%22:%5B%5D,%22type%22:%22point%22,%22point%22:%5B173360.0,159856.0,22024.0%5D,%22id%22:%22604acf781287415fc03142a1109a94d2ea775ca9%22,%22segments%22:%5B%22864691135279181729%22%5D%7D,%7B%22tagIds%22:%5B%5D,%22type%22:%22point%22,%22point%22:%5B172624.0,126960.0,20812.0%5D,%22id%22:%22e24ff31484c1ab040ea1ca998fa3a8f46cfae60a%22,%22segments%22:%5B%22864691135572499493%22%5D%7D,%7B%22tagIds%22:%5B%5D,%22type%22:%22point%22,%22point%22:%5B195424.0,223792.0,23343.0%5D,%22id%22:%2228c866b06535594ba56ae57f0a6071d9625e0281%22,%22segments%22:%5B%22864691135777016928%22%5D%7D,%7B%22tagIds%22:%5B%5D,%22type%22:%22point%22,%22point%22:%5B179792.0,179488.0,20946.0%5D,%22id%22:%222e9217b7d0e11c946e7999554fa180dc0de3840d%22,%22segments%22:%5B%22864691135865968005%22%5D%7D,%7B%22tagIds%22:%5B%5D,%22type%22:%22point%22,%22point%22:%5B191120.0,109792.0,21792.0%5D,%22id%22:%22739852ee97d7ed1e394efeefe5dcddddff7b7806%22,%22segments%22:%5B%22864691135848903518%22%5D%7D,%7B%22tagIds%22:%5B%5D,%22type%22:%22point%22,%22point%22:%5B185920.0,257680.0,22934.0%5D,%22id%22:%223d8bd72ceb5c33695d0f26a3523ec171975a74c5%22,%22segments%22:%5B%22864691135939924646%22%5D%7D,%7B%22tagIds%22:%5B%5D,%22type%22:%22point%22,%22point%22:%5B196288.0,247568.0,24687.0%5D,%22id%22:%224031e0f95af628727851016407442b1088428c1f%22,%22segments%22:%5B%22864691136483201580%22%5D%7D,%7B%22tagIds%22:%5B%5D,%22type%22:%22point%22,%22point%22:%5B180752.0,135200.0,22612.0%5D,%22id%22:%223d4d07067876b542dfeffc087b32a017f69259b1%22,%22segments%22:%5B%22864691135490940135%22%5D%7D,%7B%22tagIds%22:%5B%5D,%22type%22:%22point%22,%22point%22:%5B177936.0,215664.0,21555.0%5D,%22id%22:%22b035a0890506c5693ee1082bc4786b73df6bb51a%22,%22segments%22:%5B%22864691135374222153%22%5D%7D,%7B%22tagIds%22:%5B%5D,%22type%22:%22point%22,%22point%22:%5B181680.0,160112.0,21810.0%5D,%22id%22:%22ca056b8b473e5c1ee03760cea2eabf228e96718e%22,%22segments%22:%5B%22864691135857273902%22%5D%7D,%7B%22tagIds%22:%5B%5D,%22type%22:%22point%22,%22point%22:%5B178176.0,152192.0,20167.0%5D,%22id%22:%220ccc246284210def589754e936bf168adc4c1047%22,%22segments%22:%5B%22864691137197329985%22%5D%7D,%7B%22tagIds%22:%5B%5D,%22type%22:%22point%22,%22point%22:%5B189040.0,118352.0,21048.0%5D,%22id%22:%22fe0e6a43637d53c23393b0669127aea637c259f3%22,%22segments%22:%5B%22864691136020729592%22%5D%7D,%7B%22tagIds%22:%5B%5D,%22type%22:%22point%22,%22point%22:%5B168512.0,127088.0,20650.0%5D,%22id%22:%229f61df97c078fc170f444e2ded5989d1cdbe6d94%22,%22segments%22:%5B%22864691135809759436%22%5D%7D,%7B%22tagIds%22:%5B%5D,%22type%22:%22point%22,%22point%22:%5B175792.0,131824.0,21078.0%5D,%22id%22:%220d0cf1c461538af30d2132b10e084bb086f32d1b%22,%22segments%22:%5B%22864691136662432990%22%5D%7D,%7B%22tagIds%22:%5B%5D,%22type%22:%22point%22,%22point%22:%5B177616.0,169296.0,20306.0%5D,%22id%22:%223ba96c70b673185653291d1a28314b11996e4dae%22,%22segments%22:%5B%22864691135490941927%22%5D%7D,%7B%22tagIds%22:%5B%5D,%22type%22:%22point%22,%22point%22:%5B185584.0,170240.0,21046.0%5D,%22id%22:%22e11e17f5ac1a022b8be63e777496e985e1e6b787%22,%22segments%22:%5B%22864691135014128278%22%5D%7D,%7B%22tagIds%22:%5B%5D,%22type%22:%22point%22,%22point%22:%5B197504.0,241840.0,23068.0%5D,%22id%22:%22ac0d3b94f654e692c236499a4f2a5fc3d4a48f65%22,%22segments%22:%5B%22864691135516181459%22%5D%7D,%7B%22tagIds%22:%5B%5D,%22type%22:%22point%22,%22point%22:%5B169008.0,203792.0,21087.0%5D,%22id%22:%2266ccf685927ac05e37810a067f392364f557aa07%22,%22segments%22:%5B%22864691135969342309%22%5D%7D,%7B%22tagIds%22:%5B%5D,%22type%22:%22point%22,%22point%22:%5B178528.0,89504.0,21709.0%5D,%22id%22:%221cb243de7603009af24707da2fc7ae1c6f9a15b4%22,%22segments%22:%5B%22864691136723961597%22%5D%7D,%7B%22tagIds%22:%5B%5D,%22type%22:%22point%22,%22point%22:%5B180288.0,258960.0,23956.0%5D,%22id%22:%224b45d93ee680df3e2574d53d1ba9ca1bd462dcfe%22,%22segments%22:%5B%22864691135367662329%22%5D%7D,%7B%22tagIds%22:%5B%5D,%22type%22:%22point%22,%22point%22:%5B179792.0,97680.0,20633.0%5D,%22id%22:%2211b4f88115342b71b859e72a6fe9915121ee7f46%22,%22segments%22:%5B%22864691135518510218%22%5D%7D,%7B%22tagIds%22:%5B%5D,%22type%22:%22point%22,%22point%22:%5B170608.0,151712.0,21647.0%5D,%22id%22:%22452feb510bed63463b5ae642c1bfc66b5867fb67%22,%22segments%22:%5B%22864691136371168136%22%5D%7D,%7B%22tagIds%22:%5B%5D,%22type%22:%22point%22,%22point%22:%5B170352.0,192608.0,20580.0%5D,%22id%22:%22ceae74f7c8e0c2d7b4b2efe39091f0b48f3c72d2%22,%22segments%22:%5B%22864691135374556872%22%5D%7D,%7B%22tagIds%22:%5B%5D,%22type%22:%22point%22,%22point%22:%5B174720.0,152224.0,21821.0%5D,%22id%22:%22e82b5aa4583718b24f905287a3b109cf47bdd149%22,%22segments%22:%5B%22864691135273485073%22%5D%7D,%7B%22tagIds%22:%5B%5D,%22type%22:%22point%22,%22point%22:%5B169488.0,174880.0,20977.0%5D,%22id%22:%2229bb90451faa9072b079f0f45953c0fc1d2afeee%22,%22segments%22:%5B%22864691136008567724%22%5D%7D,%7B%22tagIds%22:%5B%5D,%22type%22:%22point%22,%22point%22:%5B179936.0,253344.0,24349.0%5D,%22id%22:%22e3a72d5a78c2ab0d62de4ffe090eb5d665fa60a2%22,%22segments%22:%5B%22864691135693735103%22%5D%7D,%7B%22tagIds%22:%5B%5D,%22type%22:%22point%22,%22point%22:%5B171712.0,189168.0,21053.0%5D,%22id%22:%22ca0f8b22344860e44043fa2e175adcc19f84b450%22,%22segments%22:%5B%22864691135394307317%22%5D%7D,%7B%22tagIds%22:%5B%5D,%22type%22:%22point%22,%22point%22:%5B176080.0,118192.0,21795.0%5D,%22id%22:%228febf9f46ed4bde0f7a1baab7da907886c05953c%22,%22segments%22:%5B%22864691135163315501%22%5D%7D,%7B%22tagIds%22:%5B%5D,%22type%22:%22point%22,%22point%22:%5B194896.0,229632.0,21944.0%5D,%22id%22:%22d225ddf9f9cdead3c3501db83da366d232678185%22,%22segments%22:%5B%22864691135885014384%22%5D%7D,%7B%22tagIds%22:%5B%5D,%22type%22:%22point%22,%22point%22:%5B196320.0,225280.0,22165.0%5D,%22id%22:%22d91936ee468fc732ec2c9982d9f3fab2e0812cf0%22,%22segments%22:%5B%22864691135292201142%22%5D%7D,%7B%22tagIds%22:%5B%5D,%22type%22:%22point%22,%22point%22:%5B179392.0,131872.0,20955.0%5D,%22id%22:%226b96ccdcba274e49d5a4f340ef36829686402084%22,%22segments%22:%5B%22864691135568797676%22%5D%7D,%7B%22tagIds%22:%5B%5D,%22type%22:%22point%22,%22point%22:%5B181792.0,92752.0,22125.0%5D,%22id%22:%2223843abc032fb3ab04e58fb1a24604e7285893c9%22,%22segments%22:%5B%22864691135988854016%22%5D%7D,%7B%22tagIds%22:%5B%5D,%22type%22:%22point%22,%22point%22:%5B183920.0,182432.0,22462.0%5D,%22id%22:%2205bd69047ca2b1be9136cfc3e4baae6b005e1464%22,%22segments%22:%5B%22864691135387648385%22%5D%7D,%7B%22tagIds%22:%5B%5D,%22type%22:%22point%22,%22point%22:%5B184032.0,125632.0,22246.0%5D,%22id%22:%22db65c2a9a4d9b6ae141a7c23b74e383389c6e201%22,%22segments%22:%5B%22864691135975705199%22%5D%7D,%7B%22tagIds%22:%5B%5D,%22type%22:%22point%22,%22point%22:%5B190896.0,95424.0,21808.0%5D,%22id%22:%2240920a1e63a587ca510e7f0e2bd21d559f01d63a%22,%22segments%22:%5B%22864691135564891159%22%5D%7D,%7B%22tagIds%22:%5B%5D,%22type%22:%22point%22,%22point%22:%5B170640.0,198688.0,20906.0%5D,%22id%22:%229d0327f62d166fbd5637ac678a4132da42a9f697%22,%22segments%22:%5B%22864691136273259454%22%5D%7D,%7B%22tagIds%22:%5B%5D,%22type%22:%22point%22,%22point%22:%5B178480.0,188832.0,21101.0%5D,%22id%22:%22720a1adc097f991d0fbfb465cef0735ca4304f49%22,%22segments%22:%5B%22864691135969447781%22%5D%7D,%7B%22tagIds%22:%5B%5D,%22type%22:%22point%22,%22point%22:%5B171248.0,197696.0,20273.0%5D,%22id%22:%22ca382492e04c1389086ac2dcfddad8a657f7cdae%22,%22segments%22:%5B%22864691135969582181%22%5D%7D,%7B%22tagIds%22:%5B%5D,%22type%22:%22point%22,%22point%22:%5B193056.0,168768.0,21792.0%5D,%22id%22:%2226778ae1073616837b38654447e54c42363c2390%22,%22segments%22:%5B%22864691135162585389%22%5D%7D,%7B%22tagIds%22:%5B%5D,%22type%22:%22point%22,%22point%22:%5B191040.0,224880.0,22028.0%5D,%22id%22:%22910893eb745f9492ae2b168bc91d391a507fbf3c%22,%22segments%22:%5B%22864691136089287735%22%5D%7D,%7B%22tagIds%22:%5B%5D,%22type%22:%22point%22,%22point%22:%5B191024.0,206656.0,21021.0%5D,%22id%22:%22bf9b5b5b0c44854c56c12c73d9a0d2cc0c87764e%22,%22segments%22:%5B%22864691135926631636%22%5D%7D,%7B%22tagIds%22:%5B%5D,%22type%22:%22point%22,%22point%22:%5B190992.0,142992.0,20657.0%5D,%22id%22:%22f25b100ad543f937683854807582d43250d61065%22,%22segments%22:%5B%22864691135494434448%22%5D%7D,%7B%22tagIds%22:%5B%5D,%22type%22:%22point%22,%22point%22:%5B185856.0,110288.0,20415.0%5D,%22id%22:%221f2966ee15a2e8f3e2f5ca9867c1f3b0618b8850%22,%22segments%22:%5B%22864691135182900482%22%5D%7D,%7B%22tagIds%22:%5B%5D,%22type%22:%22point%22,%22point%22:%5B178144.0,164992.0,22469.0%5D,%22id%22:%229b1a23e73bfd6781ea9e89cc9f20ec11b24c6507%22,%22segments%22:%5B%22864691136436788382%22%5D%7D,%7B%22tagIds%22:%5B%5D,%22type%22:%22point%22,%22point%22:%5B189600.0,192320.0,21518.0%5D,%22id%22:%2207a1104961aaa11b32890ef9e5825ef04f24f2ef%22,%22segments%22:%5B%22864691137053906294%22%5D%7D,%7B%22tagIds%22:%5B%5D,%22type%22:%22point%22,%22point%22:%5B172192.0,189648.0,21784.0%5D,%22id%22:%2232e98f107df32ea4882b117f3bcca8bdcea27919%22,%22segments%22:%5B%22864691135511632080%22%5D%7D,%7B%22tagIds%22:%5B%5D,%22type%22:%22point%22,%22point%22:%5B192336.0,214912.0,23313.0%5D,%22id%22:%223d33d7367feaea4e85b6051993112f37ad2493b2%22,%22segments%22:%5B%22864691135577304325%22%5D%7D,%7B%22tagIds%22:%5B%5D,%22type%22:%22point%22,%22point%22:%5B180528.0,242928.0,22535.0%5D,%22id%22:%2256da59bf8ed32987b2ebd88297436741573d0481%22,%22segments%22:%5B%22864691135082074359%22%5D%7D,%7B%22tagIds%22:%5B%5D,%22type%22:%22point%22,%22point%22:%5B170192.0,182624.0,21778.0%5D,%22id%22:%22f53665b9a55bd2cbc09e1df2c27f73e666b27e3c%22,%22segments%22:%5B%22864691135576270110%22%5D%7D,%7B%22tagIds%22:%5B%5D,%22type%22:%22point%22,%22point%22:%5B190864.0,188784.0,20152.0%5D,%22id%22:%22b88f57bd916e74660730b3b74cb0957613961228%22,%22segments%22:%5B%22864691135575425822%22%5D%7D,%7B%22tagIds%22:%5B%5D,%22type%22:%22point%22,%22point%22:%5B171488.0,139312.0,21678.0%5D,%22id%22:%22ad84597d10700c8fe8d095e005038ed3b28ccecf%22,%22segments%22:%5B%22864691135100167712%22%5D%7D,%7B%22tagIds%22:%5B%5D,%22type%22:%22point%22,%22point%22:%5B179504.0,186592.0,20783.0%5D,%22id%22:%223c6ca725c3fa3494f5b9a41315762473713cdbd6%22,%22segments%22:%5B%22864691136210378684%22%5D%7D,%7B%22tagIds%22:%5B%5D,%22type%22:%22point%22,%22point%22:%5B182384.0,208608.0,22961.0%5D,%22id%22:%22b09486d0058e5f67be376a936e1e72a2f3c3e941%22,%22segments%22:%5B%22864691136723962621%22%5D%7D,%7B%22tagIds%22:%5B%5D,%22type%22:%22point%22,%22point%22:%5B185568.0,153872.0,20140.0%5D,%22id%22:%22c76eac0b9b21e8c3a3f762de9b1377b7877fe5ff%22,%22segments%22:%5B%22864691135489264442%22%5D%7D,%7B%22tagIds%22:%5B%5D,%22type%22:%22point%22,%22point%22:%5B178944.0,230480.0,22105.0%5D,%22id%22:%220feac0a5ceb3c5e973579db9213dc6d50d9ececd%22,%22segments%22:%5B%22864691135565770007%22%5D%7D,%7B%22tagIds%22:%5B%5D,%22type%22:%22point%22,%22point%22:%5B178752.0,204992.0,21876.0%5D,%22id%22:%22d4d4ed7aa6e2ab6ea6aeb215a63f2a9abd057940%22,%22segments%22:%5B%22864691135105179725%22%5D%7D,%7B%22tagIds%22:%5B%5D,%22type%22:%22point%22,%22point%22:%5B187072.0,144336.0,20909.0%5D,%22id%22:%22cd7ef069948d00fb482ae2496c80b21747fd2340%22,%22segments%22:%5B%22864691136388711031%22%5D%7D,%7B%22tagIds%22:%5B%5D,%22type%22:%22point%22,%22point%22:%5B169584.0,207744.0,20690.0%5D,%22id%22:%226e43cc640fb22601ebc732fc599cb5edef2d1213%22,%22segments%22:%5B%22864691136423071535%22%5D%7D,%7B%22tagIds%22:%5B%5D,%22type%22:%22point%22,%22point%22:%5B172368.0,95616.0,20987.0%5D,%22id%22:%223542a09c99dff3be3168da2c13c781cfbbbaea11%22,%22segments%22:%5B%22864691135303514791%22%5D%7D,%7B%22tagIds%22:%5B%5D,%22type%22:%22point%22,%22point%22:%5B187824.0,240512.0,22174.0%5D,%22id%22:%229b657690205a36265f3529dc7bf21d0fb9b0cb6a%22,%22segments%22:%5B%22864691135446864980%22%5D%7D,%7B%22tagIds%22:%5B%5D,%22type%22:%22point%22,%22point%22:%5B176368.0,188864.0,21766.0%5D,%22id%22:%221f1f117ad035a417954b2bc1b5d86bb6896685d8%22,%22segments%22:%5B%22864691136444888195%22%5D%7D,%7B%22tagIds%22:%5B%5D,%22type%22:%22point%22,%22point%22:%5B172464.0,175072.0,20483.0%5D,%22id%22:%22624291b8309530df515540ce50e73ff29554c3c5%22,%22segments%22:%5B%22864691137197468481%22%5D%7D,%7B%22tagIds%22:%5B%5D,%22type%22:%22point%22,%22point%22:%5B188048.0,123136.0,20983.0%5D,%22id%22:%22892c48b1815aed5d0488e30eac85150679ac8783%22,%22segments%22:%5B%22864691136452054015%22%5D%7D,%7B%22tagIds%22:%5B%5D,%22type%22:%22point%22,%22point%22:%5B168640.0,158976.0,22594.0%5D,%22id%22:%2254e22784905d1af35a899ea9779a949e578ad57f%22,%22segments%22:%5B%22864691135610188295%22%5D%7D,%7B%22tagIds%22:%5B%5D,%22type%22:%22point%22,%22point%22:%5B200224.0,263424.0,25547.0%5D,%22id%22:%226796d136f0d28639020c462fae90ba5bfe2ea42f%22,%22segments%22:%5B%22864691135163477037%22%5D%7D,%7B%22tagIds%22:%5B%5D,%22type%22:%22point%22,%22point%22:%5B175264.0,183856.0,20192.0%5D,%22id%22:%228667b7767ee43f4c23ed44b983a31368328f6c74%22,%22segments%22:%5B%22864691135408247241%22%5D%7D,%7B%22tagIds%22:%5B%5D,%22type%22:%22point%22,%22point%22:%5B195744.0,235728.0,22961.0%5D,%22id%22:%220bc38aa2c69796ce87751adf1a444b4b554f0d46%22,%22segments%22:%5B%22864691135509890057%22%5D%7D,%7B%22tagIds%22:%5B%5D,%22type%22:%22point%22,%22point%22:%5B191712.0,136928.0,22487.0%5D,%22id%22:%2286f733a61009bf3e87a753917c1fc0cb8a13d63d%22,%22segments%22:%5B%22864691136371491976%22%5D%7D,%7B%22tagIds%22:%5B%5D,%22type%22:%22point%22,%22point%22:%5B187392.0,183984.0,22496.0%5D,%22id%22:%2228972037ceae0aa057a8cb61e226a78f4bf774e9%22,%22segments%22:%5B%22864691136066728600%22%5D%7D,%7B%22tagIds%22:%5B%5D,%22type%22:%22point%22,%22point%22:%5B189680.0,129712.0,22145.0%5D,%22id%22:%22d74c58374aae6a58b2e24bc3d5ca6c6a765f1ec9%22,%22segments%22:%5B%22864691135323237532%22%5D%7D,%7B%22tagIds%22:%5B%5D,%22type%22:%22point%22,%22point%22:%5B185552.0,148944.0,20382.0%5D,%22id%22:%22296062f887112c61c45620a7d614787e0a336c56%22,%22segments%22:%5B%22864691136084466796%22%5D%7D,%7B%22tagIds%22:%5B%5D,%22type%22:%22point%22,%22point%22:%5B181984.0,240832.0,24349.0%5D,%22id%22:%223d10f688056b8a6cd22d3ee55614e9e03f5fddc8%22,%22segments%22:%5B%22864691136903387826%22%5D%7D,%7B%22tagIds%22:%5B%5D,%22type%22:%22point%22,%22point%22:%5B175616.0,144976.0,22055.0%5D,%22id%22:%228e1194903ba444aefc7cf1d4f7b5bf999ee12b13%22,%22segments%22:%5B%22864691135544892200%22%5D%7D,%7B%22tagIds%22:%5B%5D,%22type%22:%22point%22,%22point%22:%5B172752.0,163920.0,22153.0%5D,%22id%22:%229d27573ef53bed4a8ddcdc16c272bacc72b21d3b%22,%22segments%22:%5B%22864691135659000450%22%5D%7D,%7B%22tagIds%22:%5B%5D,%22type%22:%22point%22,%22point%22:%5B176064.0,130512.0,22031.0%5D,%22id%22:%222b19907ee3436adc6d4abcf323e703c04587d406%22,%22segments%22:%5B%22864691135489383226%22%5D%7D,%7B%22tagIds%22:%5B%5D,%22type%22:%22point%22,%22point%22:%5B189824.0,116768.0,21967.0%5D,%22id%22:%22dbfc7e7fb644b4f07d8a7fb39f34c686f400aa19%22,%22segments%22:%5B%22864691137020151406%22%5D%7D,%7B%22tagIds%22:%5B%5D,%22type%22:%22point%22,%22point%22:%5B171952.0,130464.0,21938.0%5D,%22id%22:%22bad258e46d29c81a17fc1bd46307285c948bd352%22,%22segments%22:%5B%22864691135783071283%22%5D%7D,%7B%22tagIds%22:%5B%5D,%22type%22:%22point%22,%22point%22:%5B176016.0,95024.0,22051.0%5D,%22id%22:%223046077d1428167712e8c8ec95704cc2631c57ee%22,%22segments%22:%5B%22864691135976155459%22%5D%7D,%7B%22tagIds%22:%5B%5D,%22type%22:%22point%22,%22point%22:%5B190560.0,243792.0,23078.0%5D,%22id%22:%22db17faf966a45cf8e7d47e57ad0531d174474322%22,%22segments%22:%5B%22864691135807628573%22%5D%7D,%7B%22tagIds%22:%5B%5D,%22type%22:%22point%22,%22point%22:%5B178000.0,230464.0,21610.0%5D,%22id%22:%221e2c110ba862c3512aa6f2392b62c7002cd7530c%22,%22segments%22:%5B%22864691137020205166%22%5D%7D,%7B%22tagIds%22:%5B%5D,%22type%22:%22point%22,%22point%22:%5B189456.0,177392.0,22310.0%5D,%22id%22:%221574fb800c06d56f5745c56980395eb69503f8a6%22,%22segments%22:%5B%22864691136724121597%22%5D%7D,%7B%22tagIds%22:%5B%5D,%22type%22:%22point%22,%22point%22:%5B170240.0,95424.0,22188.0%5D,%22id%22:%2204c6b27fee4747e0564aa6e8bd65dda883d3fc1b%22,%22segments%22:%5B%22864691135915450982%22%5D%7D,%7B%22tagIds%22:%5B%5D,%22type%22:%22point%22,%22point%22:%5B168960.0,134400.0,21639.0%5D,%22id%22:%2272328c2eb13840fedb49e36c66d401f154273eba%22,%22segments%22:%5B%22864691135341465029%22%5D%7D,%7B%22tagIds%22:%5B%5D,%22type%22:%22point%22,%22point%22:%5B189696.0,118960.0,21975.0%5D,%22id%22:%2224d4dd0a39738a36bc5aade6803ea2f9899acf7e%22,%22segments%22:%5B%22864691135323181212%22%5D%7D,%7B%22tagIds%22:%5B%5D,%22type%22:%22point%22,%22point%22:%5B172880.0,133664.0,22221.0%5D,%22id%22:%229e9b4dca0b001c3051efdaceeba99ce347880d7a%22,%22segments%22:%5B%22864691135855791662%22%5D%7D,%7B%22tagIds%22:%5B%5D,%22type%22:%22point%22,%22point%22:%5B171360.0,138880.0,21195.0%5D,%22id%22:%229de20307102597293a122795a6ee46fe411a378b%22,%22segments%22:%5B%22864691136618908301%22%5D%7D,%7B%22tagIds%22:%5B%5D,%22type%22:%22point%22,%22point%22:%5B189184.0,234896.0,22722.0%5D,%22id%22:%2296c94f00f7bd6f6a9feef56b44f4fb6d81f80704%22,%22segments%22:%5B%22864691135355455183%22%5D%7D,%7B%22tagIds%22:%5B%5D,%22type%22:%22point%22,%22point%22:%5B174432.0,200608.0,21567.0%5D,%22id%22:%22db08055f0ac81ad03a0cca5577d96caf2c82abda%22,%22segments%22:%5B%22864691135194735914%22%5D%7D,%7B%22tagIds%22:%5B%5D,%22type%22:%22point%22,%22point%22:%5B190512.0,90448.0,21434.0%5D,%22id%22:%22a0ab9c3caaab8e0528c396fc8e0313cf920662c1%22,%22segments%22:%5B%22864691135571154925%22%5D%7D,%7B%22tagIds%22:%5B%5D,%22type%22:%22point%22,%22point%22:%5B174032.0,225648.0,22347.0%5D,%22id%22:%2217be9f1b1ab226dce1f32e75d16af89ca8b98cac%22,%22segments%22:%5B%22864691135954232584%22%5D%7D,%7B%22tagIds%22:%5B%5D,%22type%22:%22point%22,%22point%22:%5B171888.0,209344.0,22995.0%5D,%22id%22:%223a114adfe769070b3336c14708835229be6d2959%22,%22segments%22:%5B%22864691134965471007%22%5D%7D,%7B%22tagIds%22:%5B%5D,%22type%22:%22point%22,%22point%22:%5B191904.0,188112.0,22101.0%5D,%22id%22:%220f38dc556cc0e878feb1c2a2b86940e99a574274%22,%22segments%22:%5B%22864691136602069713%22%5D%7D,%7B%22tagIds%22:%5B%5D,%22type%22:%22point%22,%22point%22:%5B184432.0,116416.0,21136.0%5D,%22id%22:%2277278489e77825a8a7cca34cf25f87f06a68e618%22,%22segments%22:%5B%22864691135685300407%22%5D%7D,%7B%22tagIds%22:%5B%5D,%22type%22:%22point%22,%22point%22:%5B192016.0,189408.0,20661.0%5D,%22id%22:%2255f95fedda19c2e3772860a837cb53835f6fd82f%22,%22segments%22:%5B%22864691135428878640%22%5D%7D,%7B%22tagIds%22:%5B%5D,%22type%22:%22point%22,%22point%22:%5B177472.0,182816.0,22269.0%5D,%22id%22:%229e69bc3b3f9dcb4bda0838544bc89ff36554b58c%22,%22segments%22:%5B%22864691135561619681%22%5D%7D,%7B%22tagIds%22:%5B%5D,%22type%22:%22point%22,%22point%22:%5B190608.0,216960.0,21321.0%5D,%22id%22:%22087cf1245aa75cf8651ae8d85824c3a518ef18cf%22,%22segments%22:%5B%22864691135781152848%22%5D%7D,%7B%22tagIds%22:%5B%5D,%22type%22:%22point%22,%22point%22:%5B173552.0,172112.0,21616.0%5D,%22id%22:%22370b2db2ca4d6f11ff428cac8997a6f8b8c763ce%22,%22segments%22:%5B%22864691135517755274%22%5D%7D,%7B%22tagIds%22:%5B%5D,%22type%22:%22point%22,%22point%22:%5B174704.0,165104.0,20328.0%5D,%22id%22:%22cd21bbc495bef644b86cd0765649e64d03c2546f%22,%22segments%22:%5B%22864691135359413848%22%5D%7D,%7B%22tagIds%22:%5B%5D,%22type%22:%22point%22,%22point%22:%5B192496.0,166560.0,20781.0%5D,%22id%22:%22a19a061ee116ff3092240f9e008dfa3ae498954e%22,%22segments%22:%5B%22864691135859020392%22%5D%7D,%7B%22tagIds%22:%5B%5D,%22type%22:%22point%22,%22point%22:%5B190960.0,253120.0,23139.0%5D,%22id%22:%22ba56bc1bc38fb2f57bd29acf1a006784b882491d%22,%22segments%22:%5B%22864691135293398284%22%5D%7D,%7B%22tagIds%22:%5B%5D,%22type%22:%22point%22,%22point%22:%5B183344.0,171360.0,21368.0%5D,%22id%22:%22f46df2ecc3f8819b85c385621b35af22b2d543f7%22,%22segments%22:%5B%22864691135754773709%22%5D%7D,%7B%22tagIds%22:%5B%5D,%22type%22:%22point%22,%22point%22:%5B199200.0,232352.0,23009.0%5D,%22id%22:%222c114ee9a1347a7ee31e0469cc2e8018fe8894fd%22,%22segments%22:%5B%22864691136227297105%22%5D%7D,%7B%22tagIds%22:%5B%5D,%22type%22:%22point%22,%22point%22:%5B186656.0,186400.0,21142.0%5D,%22id%22:%22b5c24460e9b7d6a3a35c49073d1749350a0bc11b%22,%22segments%22:%5B%22864691135940249601%22%5D%7D,%7B%22tagIds%22:%5B%5D,%22type%22:%22point%22,%22point%22:%5B192384.0,216944.0,21284.0%5D,%22id%22:%22676dfb0a4000fdd0c8087b96134ebf80054c7628%22,%22segments%22:%5B%22864691136009693102%22%5D%7D,%7B%22tagIds%22:%5B%5D,%22type%22:%22point%22,%22point%22:%5B188960.0,245664.0,24467.0%5D,%22id%22:%227157c7622b618f4ed56f6bea19f9354f44066a62%22,%22segments%22:%5B%22864691135472556082%22%5D%7D,%7B%22tagIds%22:%5B%5D,%22type%22:%22point%22,%22point%22:%5B186352.0,149232.0,22124.0%5D,%22id%22:%220fbf88883cfd3d34dcd19e0241ebadd6838319a0%22,%22segments%22:%5B%22864691135396580129%22%5D%7D,%7B%22tagIds%22:%5B%5D,%22type%22:%22point%22,%22point%22:%5B172240.0,181184.0,20446.0%5D,%22id%22:%223c5f08fb5d27a2170ade9f5fb33bffc1b9d86498%22,%22segments%22:%5B%22864691135416083642%22%5D%7D,%7B%22tagIds%22:%5B%5D,%22type%22:%22point%22,%22point%22:%5B170736.0,113344.0,21601.0%5D,%22id%22:%227ff1e6e4c4bc045421dcd75dc549ddd872e001f5%22,%22segments%22:%5B%22864691135988773120%22%5D%7D,%7B%22tagIds%22:%5B%5D,%22type%22:%22point%22,%22point%22:%5B188240.0,161648.0,21466.0%5D,%22id%22:%22107c9410fb5294f1601d3483b1645dbdaecc4c46%22,%22segments%22:%5B%22864691135195576362%22%5D%7D,%7B%22tagIds%22:%5B%5D,%22type%22:%22point%22,%22point%22:%5B188544.0,123584.0,20721.0%5D,%22id%22:%22a3214f1714dc13e16b28f555796339bef7c71811%22,%22segments%22:%5B%22864691135660772080%22%5D%7D,%7B%22tagIds%22:%5B%5D,%22type%22:%22point%22,%22point%22:%5B176480.0,101824.0,20540.0%5D,%22id%22:%22caa1952b3437ba2d58d945ca2beacd0956a9afbd%22,%22segments%22:%5B%22864691136143786292%22%5D%7D,%7B%22tagIds%22:%5B%5D,%22type%22:%22point%22,%22point%22:%5B185760.0,140784.0,22627.0%5D,%22id%22:%22aeb2ffb1bb9341553b3f7aebab5130a0126d58b5%22,%22segments%22:%5B%22864691135953216547%22%5D%7D,%7B%22tagIds%22:%5B%5D,%22type%22:%22point%22,%22point%22:%5B190416.0,99456.0,20385.0%5D,%22id%22:%22eb0980e1cb081801cbfde307a9667302ac9f3835%22,%22segments%22:%5B%22864691135132887456%22%5D%7D,%7B%22tagIds%22:%5B%5D,%22type%22:%22point%22,%22point%22:%5B183104.0,122128.0,20512.0%5D,%22id%22:%22de579fb559f6d47f63d62e4283c614083706f456%22,%22segments%22:%5B%22864691136005322698%22%5D%7D,%7B%22tagIds%22:%5B%5D,%22type%22:%22point%22,%22point%22:%5B177328.0,184400.0,21991.0%5D,%22id%22:%2266c61ced8f709d1c924277705e4bb39951bcfa01%22,%22segments%22:%5B%22864691135492555359%22%5D%7D,%7B%22tagIds%22:%5B%5D,%22type%22:%22point%22,%22point%22:%5B192608.0,215280.0,22646.0%5D,%22id%22:%22d567607dfb0cbd7188798a41307b15cf81e40fc2%22,%22segments%22:%5B%22864691136925825354%22%5D%7D,%7B%22tagIds%22:%5B%5D,%22type%22:%22point%22,%22point%22:%5B173584.0,145120.0,21127.0%5D,%22id%22:%22aabaadef451a4dc2b2d879a32f16b267e04ad343%22,%22segments%22:%5B%22864691135919440816%22%5D%7D,%7B%22tagIds%22:%5B%5D,%22type%22:%22point%22,%22point%22:%5B192736.0,181920.0,22366.0%5D,%22id%22:%2242c2d893e0d834fa04309da706d3c53e9935882b%22,%22segments%22:%5B%22864691135385703509%22%5D%7D,%7B%22tagIds%22:%5B%5D,%22type%22:%22point%22,%22point%22:%5B174448.0,119904.0,22272.0%5D,%22id%22:%22fc15929524038a46523c0e1f406b97d79c79f015%22,%22segments%22:%5B%22864691135954311176%22%5D%7D,%7B%22tagIds%22:%5B%5D,%22type%22:%22point%22,%22point%22:%5B192176.0,120944.0,22354.0%5D,%22id%22:%22ca5ad63962c8d06c0bfb9f035878521e930e4bb0%22,%22segments%22:%5B%22864691135491529311%22%5D%7D,%7B%22tagIds%22:%5B%5D,%22type%22:%22point%22,%22point%22:%5B184208.0,114224.0,21914.0%5D,%22id%22:%224b93cf9f30ba916f39a4ff3cf481cc84357089cd%22,%22segments%22:%5B%22864691135777733216%22%5D%7D,%7B%22tagIds%22:%5B%5D,%22type%22:%22point%22,%22point%22:%5B173184.0,217472.0,21929.0%5D,%22id%22:%22046f681145f6925f1a69f3ac5a23a1f7186fadb9%22,%22segments%22:%5B%22864691136195284556%22%5D%7D,%7B%22tagIds%22:%5B%5D,%22type%22:%22point%22,%22point%22:%5B175136.0,212800.0,20750.0%5D,%22id%22:%2221a779127bc06135c0e788c1b98e617acff81ada%22,%22segments%22:%5B%22864691136052055283%22%5D%7D,%7B%22tagIds%22:%5B%5D,%22type%22:%22point%22,%22point%22:%5B184256.0,217136.0,22396.0%5D,%22id%22:%22a2cf6d95d22a122959c54027538e37dfb7c20370%22,%22segments%22:%5B%22864691135856066862%22%5D%7D,%7B%22tagIds%22:%5B%5D,%22type%22:%22point%22,%22point%22:%5B169520.0,170016.0,21144.0%5D,%22id%22:%22fdbaf9d5b78096da97950374967d9c2f41cd49a0%22,%22segments%22:%5B%22864691135013445270%22%5D%7D,%7B%22tagIds%22:%5B%5D,%22type%22:%22point%22,%22point%22:%5B184352.0,238080.0,24354.0%5D,%22id%22:%2201f67945febd15c51cabc180d98eeedd5b9f660d%22,%22segments%22:%5B%22864691135468031628%22%5D%7D,%7B%22tagIds%22:%5B%5D,%22type%22:%22point%22,%22point%22:%5B168448.0,154320.0,20451.0%5D,%22id%22:%2209d08ee269986ff860b9d7d5cd59b39b404e652a%22,%22segments%22:%5B%22864691135386843521%22%5D%7D,%7B%22tagIds%22:%5B%5D,%22type%22:%22point%22,%22point%22:%5B191248.0,204224.0,22278.0%5D,%22id%22:%2299f4f9b97b296ee3d0d0a1e3733a68e6bad1e310%22,%22segments%22:%5B%22864691135947023969%22%5D%7D,%7B%22tagIds%22:%5B%5D,%22type%22:%22point%22,%22point%22:%5B192656.0,94768.0,20588.0%5D,%22id%22:%22d0ef35cfb6a4aaf23797865ac51ffad11b6b7b7a%22,%22segments%22:%5B%22864691135976729667%22%5D%7D,%7B%22tagIds%22:%5B%5D,%22type%22:%22point%22,%22point%22:%5B188896.0,242368.0,23814.0%5D,%22id%22:%22fb9bfdf57a2cf83c1a50b3455f8598ba4530c3aa%22,%22segments%22:%5B%22864691135946994785%22%5D%7D,%7B%22tagIds%22:%5B%5D,%22type%22:%22point%22,%22point%22:%5B192784.0,182064.0,21087.0%5D,%22id%22:%2227eb98c68253f54c5d686cf14354fdba93367b5c%22,%22segments%22:%5B%22864691135927509716%22%5D%7D,%7B%22tagIds%22:%5B%5D,%22type%22:%22point%22,%22point%22:%5B175616.0,153472.0,20823.0%5D,%22id%22:%229e377b51696a6d310c54ca391a85158d21a793e5%22,%22segments%22:%5B%22864691135256626095%22%5D%7D,%7B%22tagIds%22:%5B%5D,%22type%22:%22point%22,%22point%22:%5B173744.0,151152.0,22254.0%5D,%22id%22:%22f0181599c39809b249cf8ac4ec5559b0d47b274a%22,%22segments%22:%5B%22864691135857324590%22%5D%7D,%7B%22tagIds%22:%5B%5D,%22type%22:%22point%22,%22point%22:%5B182848.0,189392.0,21379.0%5D,%22id%22:%224bf5db59461bc8e873a96d1bfe13ca3c6ced89cd%22,%22segments%22:%5B%22864691135808473885%22%5D%7D,%7B%22tagIds%22:%5B%5D,%22type%22:%22point%22,%22point%22:%5B192320.0,161120.0,21368.0%5D,%22id%22:%220d9eccf2a0ad28ece1992e6d9bc8a0deb6c4c76f%22,%22segments%22:%5B%22864691135367305465%22%5D%7D,%7B%22tagIds%22:%5B%5D,%22type%22:%22point%22,%22point%22:%5B176976.0,209584.0,21964.0%5D,%22id%22:%227acca3724a08ff2f0144e463e5d720e35f4fbb39%22,%22segments%22:%5B%22864691135693213119%22%5D%7D,%7B%22tagIds%22:%5B%5D,%22type%22:%22point%22,%22point%22:%5B177152.0,233216.0,23849.0%5D,%22id%22:%22eda78e810e950a015c417c085378b4ab4b6f21e5%22,%22segments%22:%5B%22864691135988683008%22%5D%7D,%7B%22tagIds%22:%5B%5D,%22type%22:%22point%22,%22point%22:%5B180816.0,115200.0,20710.0%5D,%22id%22:%22374e9bd18d1be2bffbaea4b15b473402a11ace65%22,%22segments%22:%5B%22864691135807648541%22%5D%7D,%7B%22tagIds%22:%5B%5D,%22type%22:%22point%22,%22point%22:%5B188048.0,199488.0,21406.0%5D,%22id%22:%2248a27f2b784d3f519c8cfdbedc1b4a74d97fa348%22,%22segments%22:%5B%22864691136578663444%22%5D%7D,%7B%22tagIds%22:%5B%5D,%22type%22:%22point%22,%22point%22:%5B176176.0,188032.0,20630.0%5D,%22id%22:%2206947a8e5a778b29de8712c01b4dcd1209cf799c%22,%22segments%22:%5B%22864691135571546917%22%5D%7D,%7B%22tagIds%22:%5B%5D,%22type%22:%22point%22,%22point%22:%5B184256.0,165088.0,20542.0%5D,%22id%22:%227febfb7674457b0815cab8ba1c0a641cf5a49bdc%22,%22segments%22:%5B%22864691136904304306%22%5D%7D,%7B%22tagIds%22:%5B%5D,%22type%22:%22point%22,%22point%22:%5B183072.0,152832.0,22141.0%5D,%22id%22:%222ebb8d97d9fbacab3e0084283ef4ee51a4964957%22,%22segments%22:%5B%22864691135749617449%22%5D%7D,%7B%22tagIds%22:%5B%5D,%22type%22:%22point%22,%22point%22:%5B183744.0,160336.0,21231.0%5D,%22id%22:%221f06cae01f1007c2c2f4b085d46137adf47cbd87%22,%22segments%22:%5B%22864691136106568409%22%5D%7D,%7B%22tagIds%22:%5B%5D,%22type%22:%22point%22,%22point%22:%5B169104.0,114144.0,20711.0%5D,%22id%22:%22d61b2f3d26c7420950832b4be16c662b53fed66c%22,%22segments%22:%5B%22864691135568328684%22%5D%7D,%7B%22tagIds%22:%5B%5D,%22type%22:%22point%22,%22point%22:%5B185968.0,165312.0,21220.0%5D,%22id%22:%22db2bc809249e91e3c80aff80205b94fbf7022541%22,%22segments%22:%5B%22864691135082840567%22%5D%7D,%7B%22tagIds%22:%5B%5D,%22type%22:%22point%22,%22point%22:%5B175280.0,194224.0,22230.0%5D,%22id%22:%22a61be21565253d8a81229846c8fc9c0b6c851e1e%22,%22segments%22:%5B%22864691135502190941%22%5D%7D,%7B%22tagIds%22:%5B%5D,%22type%22:%22point%22,%22point%22:%5B171712.0,156048.0,20707.0%5D,%22id%22:%2224360a4570385f6441ae0a857a5a561008c9b253%22,%22segments%22:%5B%22864691135946995809%22%5D%7D,%7B%22tagIds%22:%5B%5D,%22type%22:%22point%22,%22point%22:%5B184384.0,218256.0,22840.0%5D,%22id%22:%22914d78003d52f661f953f6cb52d19495f23e4734%22,%22segments%22:%5B%22864691135564911895%22%5D%7D,%7B%22tagIds%22:%5B%5D,%22type%22:%22point%22,%22point%22:%5B186032.0,193712.0,21887.0%5D,%22id%22:%22149de784b25d120fc17b55357e8fa30b5775e94a%22,%22segments%22:%5B%22864691135416719546%22%5D%7D,%7B%22tagIds%22:%5B%5D,%22type%22:%22point%22,%22point%22:%5B185472.0,130880.0,21521.0%5D,%22id%22:%229fa84fd529162de63a9d66b7618d6d13be09d1bc%22,%22segments%22:%5B%22864691135274631397%22%5D%7D,%7B%22tagIds%22:%5B%5D,%22type%22:%22point%22,%22point%22:%5B185296.0,245952.0,24347.0%5D,%22id%22:%226972c8c0f8027edf80177a2829c0c1748d0b51bc%22,%22segments%22:%5B%22864691135082074103%22%5D%7D,%7B%22tagIds%22:%5B%5D,%22type%22:%22point%22,%22point%22:%5B184736.0,253008.0,24565.0%5D,%22id%22:%222d2988c9f5c3bd294f707c14ccec47403c9e7df0%22,%22segments%22:%5B%22864691136990457749%22%5D%7D,%7B%22tagIds%22:%5B%5D,%22type%22:%22point%22,%22point%22:%5B191424.0,206112.0,22678.0%5D,%22id%22:%22907e6f027a53e66834495a4a16fb6ff298256ee3%22,%22segments%22:%5B%22864691136273370302%22%5D%7D,%7B%22tagIds%22:%5B%5D,%22type%22:%22point%22,%22point%22:%5B186000.0,250032.0,24514.0%5D,%22id%22:%2221486fadefa31992fd606d409b2f4cb2b0a289f8%22,%22segments%22:%5B%22864691135994804394%22%5D%7D,%7B%22tagIds%22:%5B%5D,%22type%22:%22point%22,%22point%22:%5B185168.0,212544.0,22228.0%5D,%22id%22:%2237246985066e144e4e7dfc6b87f28fd9ff6001b7%22,%22segments%22:%5B%22864691135992774593%22%5D%7D,%7B%22tagIds%22:%5B%5D,%22type%22:%22point%22,%22point%22:%5B190352.0,217696.0,21941.0%5D,%22id%22:%22b65b9c280c989126dce1a4d1feb731108b491d5d%22,%22segments%22:%5B%22864691135701557115%22%5D%7D,%7B%22tagIds%22:%5B%5D,%22type%22:%22point%22,%22point%22:%5B182400.0,177392.0,21876.0%5D,%22id%22:%221cdf283e89b5249aa394d0baf25f8cac0fa17dff%22,%22segments%22:%5B%22864691135975556719%22%5D%7D,%7B%22tagIds%22:%5B%5D,%22type%22:%22point%22,%22point%22:%5B192976.0,245600.0,22857.0%5D,%22id%22:%22343e43a30219e67c7b9387b931aab5673f9c6ae5%22,%22segments%22:%5B%22864691135816038479%22%5D%7D,%7B%22tagIds%22:%5B%5D,%22type%22:%22point%22,%22point%22:%5B191984.0,221984.0,23401.0%5D,%22id%22:%22f957da21a0f0238bbcfd34d4cd0d4e6714b77bab%22,%22segments%22:%5B%22864691136329289962%22%5D%7D,%7B%22tagIds%22:%5B%5D,%22type%22:%22point%22,%22point%22:%5B176816.0,202320.0,20616.0%5D,%22id%22:%224c083b889344bc8d81b05980a06772731333e82c%22,%22segments%22:%5B%22864691135564974423%22%5D%7D,%7B%22tagIds%22:%5B%5D,%22type%22:%22point%22,%22point%22:%5B189984.0,230336.0,22357.0%5D,%22id%22:%220a3555805667b68134c946d83573b7ef44fbe14b%22,%22segments%22:%5B%22864691136487168530%22%5D%7D,%7B%22tagIds%22:%5B%5D,%22type%22:%22point%22,%22point%22:%5B184192.0,200784.0,20797.0%5D,%22id%22:%22b2f9cb09cdc47fd321471b92edf337db2c117384%22,%22segments%22:%5B%22864691135303399847%22%5D%7D%5D%7D%5D,%22selectedLayer%22:%7B%22layer%22:%22my_cells%22,%22visible%22:true%7D%7D\" target=\"_blank\">Neuroglancer Link</a>"
      ],
      "text/plain": [
       "<IPython.core.display.HTML object>"
      ]
     },
     "execution_count": 20,
     "metadata": {},
     "output_type": "execute_result"
    }
   ],
   "source": [
    "sb = statebuilder.StateBuilder(\n",
    "    layers = [img, seg, anno_w_tags],\n",
    "    client=client,\n",
    ")\n",
    "\n",
    "sb.render_state(\n",
    "    data=ct_df[ ct_df['classification_system'] == \"aibs_coarse_inhibitory\"],\n",
    "    return_as='html',\n",
    ")"
   ]
  },
  {
   "cell_type": "markdown",
   "id": "61267a9a-7a36-4710-8ae6-2226954c856c",
   "metadata": {},
   "source": [
    "## Further documentation"
   ]
  },
  {
   "cell_type": "markdown",
   "id": "f858be58-1406-488c-a749-a3fcf661053e",
   "metadata": {},
   "source": [
    "There are a lot of additional control one has over neuroglancer states. Find more complete [documentation here](https://github.com/seung-lab/NeuroglancerAnnotationUI/blob/master/examples/statebuilder_examples.ipynb)."
   ]
  },
  {
   "cell_type": "code",
   "execution_count": null,
   "id": "1113a21e-ce3d-46ed-bd87-36d74f522961",
   "metadata": {},
   "outputs": [],
   "source": []
  }
 ],
 "metadata": {
  "kernelspec": {
   "display_name": "analysis_m1",
   "language": "python",
   "name": "analysis_m1"
  },
  "language_info": {
   "codemirror_mode": {
    "name": "ipython",
    "version": 3
   },
   "file_extension": ".py",
   "mimetype": "text/x-python",
   "name": "python",
   "nbconvert_exporter": "python",
   "pygments_lexer": "ipython3",
   "version": "3.10.9"
  }
 },
 "nbformat": 4,
 "nbformat_minor": 5
}
