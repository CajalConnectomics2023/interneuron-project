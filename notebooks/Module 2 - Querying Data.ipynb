{
 "cells": [
  {
   "cell_type": "markdown",
   "id": "f6d83325-985f-4b47-bdb3-d0fabad5d3c7",
   "metadata": {},
   "source": [
    "# CAVEclient and querying data\n",
    "\n",
    "Most programmatic access to the CAVE services occurs through CAVEclient, a Python client to access various types of data from the online services.\n",
    "\n",
    "Full documentation for CAVEclient is [available here](http://caveclient.readthedocs.io/)\n",
    "\n",
    "To initialize a caveclient, we give it a datastack, which is a name that defines a particular combination of imagery, segmentation, and annotation database. For the MICrONs public data, we use the datastack name `minnie65_public`."
   ]
  },
  {
   "cell_type": "code",
   "execution_count": null,
   "id": "a9d7f633-a71a-4641-9573-4dbe72eebd2f",
   "metadata": {},
   "outputs": [],
   "source": [
    "# Initialize a caveclient\n",
    "\n",
    "import os\n",
    "from caveclient import CAVEclient\n",
    "datastack_name = 'minnie65_public'\n",
    "client = CAVEclient(datastack_name)\n",
    "\n",
    "# Show the description of the datastack\n",
    "client.info.get_datastack_info()['description']\n"
   ]
  },
  {
   "cell_type": "markdown",
   "id": "b9b7e853-4ca7-4c0b-a8fb-94c8d6bf534d",
   "metadata": {},
   "source": [
    "## CAVEclient Basics\n",
    "\n",
    "The most frequent use of the CAVEclient is to query the database for annotations like synapses. All database functions are under the client.materialize property. To see what tables are available, use the get_tables function:\n",
    "\n"
   ]
  },
  {
   "cell_type": "code",
   "execution_count": null,
   "id": "6df6b0b8-0a4e-4a2b-bc85-cc4aeee038f5",
   "metadata": {},
   "outputs": [],
   "source": [
    "client.materialize.get_tables()"
   ]
  },
  {
   "cell_type": "markdown",
   "id": "c44697e2-00c3-4ee8-93b6-9602047d808d",
   "metadata": {},
   "source": [
    "For each table, you can see the metadata describing that table. For example, let’s look at the nucleus_detection_v0 table:"
   ]
  },
  {
   "cell_type": "code",
   "execution_count": null,
   "id": "dcf9a330-69f2-468e-8a26-6e0117e4a94d",
   "metadata": {},
   "outputs": [],
   "source": [
    "client.materialize.get_table_metadata('nucleus_detection_v0')"
   ]
  },
  {
   "cell_type": "markdown",
   "id": "51c601de-593f-4740-bd4a-b46c1cf88875",
   "metadata": {},
   "source": [
    "You get a dictionary of values. Two fields are particularly important: the description, which offers a text description of the contents of the table and voxel_resolution which defines how the coordinates in the table are defined, in nm/voxel."
   ]
  },
  {
   "cell_type": "markdown",
   "id": "d1002b5b-87df-490d-95fe-f8910e3c4796",
   "metadata": {},
   "source": [
    "## Querying Tables\n",
    "\n",
    "To get the contents of a table, use the query_table function. This will return the whole contents of a table without any filtering, up to for a maximum limit of 200,000 rows. The table is returned as a Pandas DataFrame and you can immediately use standard Pandas function on it.\n",
    "\n",
    "NOTE: While most tables are small enough to be returned in full, the synapse table has hundreds of millions of rows and is too large to download this way"
   ]
  },
  {
   "cell_type": "code",
   "execution_count": null,
   "id": "bc12a577-f472-49fd-8250-cb64c58bf347",
   "metadata": {},
   "outputs": [],
   "source": [
    "cell_type_df = client.materialize.query_table('nucleus_detection_v0')\n",
    "cell_type_df.head()"
   ]
  },
  {
   "cell_type": "markdown",
   "id": "344a68cc-c94d-4bee-ba18-a6c00c6630c9",
   "metadata": {},
   "source": [
    "Tables have a collection of columns, some of which specify point in space (columns ending in `_position`), some a root id (ending in `_root_id`), and others that contain other information about the object at that point. Before describing some of the most important tables in the database, it’s useful to know about a few advanced options that apply when querying any table.\n",
    "\n",
    "* `desired_resolution` : This parameter allows you to convert the columns specifying spatial points to different resolutions. Many tables are stored at a resolution of 4x4x40 nm/voxel, for example, but you can convert to nanometers by setting `desired_resolution=[1,1,1]`.\n",
    "* `split_positions` : This parameter allows you to split the columns specifying spatial points into separate columns for each dimension. The new column names will be the original column name with `_x`, `_y`, and `_z` appended.\n",
    "* `select_columns` : This parameter allows you to get only a subset of columns from the table. Once you know exactly what you want, this can save you some cleanup.\n",
    "* `limit` : This parameter allows you to limit the number of rows returned. If you are just testing out a query or trying to inspect the kind of data within a table, you can set this to a small number to make sure it works before downloading the whole table. Note that this will show a warning so that you don’t accidentally limit your query when you don’t mean to.\n",
    "For example, using all of these together:\n",
    "\n"
   ]
  },
  {
   "cell_type": "code",
   "execution_count": null,
   "id": "b8b752f6-9b5b-41db-aa15-c57cbf4ce82a",
   "metadata": {},
   "outputs": [],
   "source": [
    "cell_type_df = client.materialize.query_table('nucleus_detection_v0', split_positions=True, desired_resolution=[1,1,1], select_columns=['pt_position', 'pt_root_id'], limit=10)\n",
    "cell_type_df"
   ]
  },
  {
   "cell_type": "markdown",
   "id": "9f938dae-ae8f-4889-b634-d114f840d719",
   "metadata": {},
   "source": [
    "and we can add similar formatting options as in the last section to the query function:"
   ]
  },
  {
   "cell_type": "code",
   "execution_count": null,
   "id": "cdd6dfc0-3bf7-42cc-873b-103aff245878",
   "metadata": {},
   "outputs": [],
   "source": [
    "cell_type_df = client.materialize.tables.aibs_soma_nuc_metamodel_preds_v117().query(split_positions=True, desired_resolution=[1,1,1], limit=10)\n",
    "cell_type_df"
   ]
  },
  {
   "cell_type": "markdown",
   "id": "882c5d6f-6518-4c70-8111-8fa477588bcb",
   "metadata": {},
   "source": [
    "However, now we can also filter the table to get only cells that are predicted to have cell type `\"BC\"` (for “basket cell”).\n"
   ]
  },
  {
   "cell_type": "code",
   "execution_count": null,
   "id": "9dc42563-60f4-4780-9f36-dcb6671782ef",
   "metadata": {},
   "outputs": [],
   "source": [
    "my_cell_type = \"BC\"\n",
    "client.materialize.tables.aibs_soma_nuc_metamodel_preds_v117(cell_type=my_cell_type).query()"
   ]
  },
  {
   "cell_type": "markdown",
   "id": "9c047207-6380-4011-ad57-fc5079a0d4fc",
   "metadata": {},
   "source": [
    "or maybe we just want the cell types for a particular collection of root ids:"
   ]
  },
  {
   "cell_type": "code",
   "execution_count": null,
   "id": "decc3e76-1ef3-464d-96e3-37a6e3ef3730",
   "metadata": {},
   "outputs": [],
   "source": [
    "my_root_ids = [864691135771677771, 864691135560505569, 864691136723556861]\n",
    "client.materialize.tables.aibs_soma_nuc_metamodel_preds_v117(pt_root_id=my_root_ids).query()"
   ]
  },
  {
   "cell_type": "markdown",
   "id": "518d1327-36ac-431d-9a06-263dfe344740",
   "metadata": {},
   "source": [
    "# Querying Synapses\n",
    "\n",
    "While synapses are stored as any other table in the database, in this case `synapses_pni_2`, this table is much larger than any other table at more than 337 million rows, and it works best when queried in a different way. The `synapse_query` function allows you to query the synapse table in a more convenient way than most other tables. In particular, the `pre_ids` and `post_ids` let you specify which root id (or collection of root ids) you want to query, with pre_ids indicating the collection of presynaptic neurons and post_ids the collection of postsynaptic neurons. Using both `pre_ids` and `post_ids` in one call is effectively a logical AND, returning only those synapses from neurons in the list of `pre_ids` that target neurons in the list of `post_ids`. Let’s look at one particular example.\n",
    "\n"
   ]
  },
  {
   "cell_type": "code",
   "execution_count": null,
   "id": "9c75a14e-9278-4d1a-904b-38d08bd80f5c",
   "metadata": {},
   "outputs": [],
   "source": [
    "my_root_id = 864691135808473885\n",
    "syn_df = client.materialize.synapse_query(pre_ids=my_root_id)\n",
    "print(f\"Total number of output synapses for {my_root_id}: {len(syn_df)}\")\n",
    "syn_df.head()"
   ]
  },
  {
   "cell_type": "markdown",
   "id": "1975e915-f52c-47d7-b30c-8414122d89db",
   "metadata": {},
   "source": [
    "Note that synapse queries always return the list of every synapse between the neurons in the query, even if there are multiple synapses between the same pair of neurons.\n",
    "\n",
    "A common pattern to generate a list of connections between unique pairs of neurons is to group by the root ids of the presynaptic and postsynaptic neurons and then count the number of synapses between them. For example, to get the number of synapses from this neuron onto every other neuron, ordered\n"
   ]
  },
  {
   "cell_type": "code",
   "execution_count": null,
   "id": "8eeca77c-b122-4e82-b38c-d4ad5ef72e8d",
   "metadata": {},
   "outputs": [],
   "source": [
    "syn_df.groupby(\n",
    "  ['pre_pt_root_id', 'post_pt_root_id']\n",
    ").count()[['id']].rename(\n",
    "  columns={'id': 'syn_count'}\n",
    ").sort_values(\n",
    "  by='syn_count',\n",
    "  ascending=False,\n",
    ")\n",
    "# Note that the 'id' part here is just a way to quickly extract one column.\n",
    "# This could be any of the remaining column names, but `id` is often convenient because it is common to all tables."
   ]
  },
  {
   "cell_type": "code",
   "execution_count": null,
   "id": "fcdab358-3d68-4aa8-96cd-5e2eda781033",
   "metadata": {},
   "outputs": [],
   "source": []
  }
 ],
 "metadata": {
  "kernelspec": {
   "display_name": "analysis_m1",
   "language": "python",
   "name": "analysis_m1"
  },
  "language_info": {
   "codemirror_mode": {
    "name": "ipython",
    "version": 3
   },
   "file_extension": ".py",
   "mimetype": "text/x-python",
   "name": "python",
   "nbconvert_exporter": "python",
   "pygments_lexer": "ipython3",
   "version": "3.10.9"
  }
 },
 "nbformat": 4,
 "nbformat_minor": 5
}
