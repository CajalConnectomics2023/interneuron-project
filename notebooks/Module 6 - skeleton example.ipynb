{
 "cells": [
  {
   "cell_type": "markdown",
   "id": "0ca045a5-7bbc-417a-8443-ab59bc2e9bc6",
   "metadata": {},
   "source": [
    "# Introduction to skeleton operations\n",
    "\n",
    "There is lots more documentation on these skeletons at [this location](https://allenswdb.github.io/microns-em/em-skeletons.html)."
   ]
  },
  {
   "cell_type": "markdown",
   "id": "c03fdedb-8e90-490e-a4b2-5342a4b5265d",
   "metadata": {},
   "source": [
    "Define a function to load neuronal skeletons"
   ]
  },
  {
   "cell_type": "code",
   "execution_count": null,
   "id": "31986329-d5a2-4800-b40f-178b12a6ae6e",
   "metadata": {},
   "outputs": [],
   "source": [
    "def load_neuron(root_id, client):\n",
    "    from skeleton_plot.skel_io import load_mw\n",
    "    cloud_dir = 'https://storage.googleapis.com/allen-minnie-phase3/minniephase3-emily-pcg-skeletons/minnie_all/v661/meshworks'\n",
    "    df = client.materialize.views.single_neurons(pt_root_id=root_id).query()\n",
    "    if len(df)==0:\n",
    "        raise ValueError(f'No pre-computed skeleton for root id {root_id}')\n",
    "    else:\n",
    "        return load_mw(cloud_dir, f'{root_id}_{df.iloc[0][\"id\"]}.h5')"
   ]
  },
  {
   "cell_type": "markdown",
   "id": "a7e3ff50-9160-4737-9dba-121064e3dc5f",
   "metadata": {},
   "source": [
    "Load example neuron"
   ]
  },
  {
   "cell_type": "code",
   "execution_count": null,
   "id": "7170057c-a3ee-4bd0-a7d5-d69421317739",
   "metadata": {},
   "outputs": [],
   "source": [
    "nrn = load_neuron(864691135777016928, client)"
   ]
  },
  {
   "cell_type": "markdown",
   "id": "7c8c1aad-f568-499d-a46d-c1b58f04c148",
   "metadata": {},
   "source": [
    "Visualize neuron in vtk (optional)"
   ]
  },
  {
   "cell_type": "code",
   "execution_count": null,
   "id": "a6b3bc8b-c51d-477f-a711-aaa82e7d2f73",
   "metadata": {},
   "outputs": [],
   "source": [
    "skel_actor = trimesh_vtk.skeleton_actor(nrn.skeleton)\n",
    "\n",
    "trimesh_vtk.render_actors([skel_actor])"
   ]
  },
  {
   "cell_type": "markdown",
   "id": "8b71fce8-5e25-4610-b383-17fc732b179f",
   "metadata": {},
   "source": [
    "Measure distance to root (and convert from nm to microns by dividing by 1,000)"
   ]
  },
  {
   "cell_type": "code",
   "execution_count": null,
   "id": "b877966c-05e5-4e8f-90a6-134f49992f87",
   "metadata": {},
   "outputs": [],
   "source": [
    "dtr = nrn.distance_to_root(\n",
    "    nrn.anno.post_syn.mesh_index\n",
    ") / 1_000"
   ]
  },
  {
   "cell_type": "code",
   "execution_count": null,
   "id": "5e066482-7924-4ed5-ba41-3e515b75075d",
   "metadata": {},
   "outputs": [],
   "source": [
    "# Copy the dataframe and add the distance to root information to each \n",
    "\n",
    "post_df = nrn.anno.post_syn.df\n",
    "post_df['dist_to_root'] = dtr\n",
    "\n",
    "# example of showing you can slice the dataframe by distance\n",
    "post_df[ post_df['dist_to_root'] < 50 ]"
   ]
  },
  {
   "cell_type": "markdown",
   "id": "10530158-8558-486a-a587-b0b7c88d866d",
   "metadata": {},
   "source": [
    "Find a branch of the soma and get just the synapses on that branch:"
   ]
  },
  {
   "cell_type": "code",
   "execution_count": null,
   "id": "0f0c7046-e95a-42d2-972b-f84ef0ac36e9",
   "metadata": {},
   "outputs": [],
   "source": [
    "# Identify the children of the cell body (or root) of the neuron\n",
    "\n",
    "branch_starts = nrn.child_index(\n",
    "    nrn.root,\n",
    ")"
   ]
  },
  {
   "cell_type": "markdown",
   "id": "c17ba03e-3fff-46dd-b346-0913be752cff",
   "metadata": {},
   "source": [
    "Compute the indices that are downstream (away from root) of that first child node"
   ]
  },
  {
   "cell_type": "code",
   "execution_count": null,
   "id": "3b9ec329-2ca3-41f5-a1ea-76a46d8f39e7",
   "metadata": {},
   "outputs": [],
   "source": [
    "branch_inds = nrn.downstream_of(branch_starts[0])"
   ]
  },
  {
   "cell_type": "markdown",
   "id": "1898b5a5-f779-4311-96cd-6610ffa99a74",
   "metadata": {},
   "source": [
    "Filter the postsynaptic synapse table by this collection of indices (converting `branch_inds` to a boolean mask via `branch_inds.to_mesh_mask`)"
   ]
  },
  {
   "cell_type": "code",
   "execution_count": null,
   "id": "c2c2163b-65a9-42d5-bd60-8a3f91449aef",
   "metadata": {},
   "outputs": [],
   "source": [
    "branch_syn_df = nrn.anno.post_syn.filter_query(\n",
    "    branch_inds.to_mesh_mask\n",
    ").df\n",
    "\n",
    "# convert voxels to nanometers\n",
    "import numpy as np\n",
    "branch_syn_pts = np.vstack(branch_syn_df['ctr_pt_position']) * [4,4,40]"
   ]
  },
  {
   "cell_type": "markdown",
   "id": "a17c0454-8a19-4f26-aff4-b5a14b3de098",
   "metadata": {},
   "source": [
    "Visualize the synapses along this one branch in 3d"
   ]
  },
  {
   "cell_type": "code",
   "execution_count": null,
   "id": "3771e8ad-671f-4511-aca8-3bf9e4a76c86",
   "metadata": {},
   "outputs": [],
   "source": [
    "from meshparty import trimesh_vtk\n",
    "\n",
    "ska = trimesh_vtk.skeleton_actor(nrn.skeleton)\n",
    "pca = trimesh_vtk.point_cloud_actor(branch_syn_pts, size=900, color=(1,0,0)) \n",
    "\n",
    "trimesh_vtk.render_actors([ska, pca])"
   ]
  },
  {
   "cell_type": "markdown",
   "id": "0112fd89-ab6e-40b6-890a-3c1cb7007ede",
   "metadata": {},
   "source": [
    "Plot number of synapses as a function of distance from the soma:"
   ]
  },
  {
   "cell_type": "code",
   "execution_count": null,
   "id": "aab2d1de-b26a-49c0-90b4-9045b21b8495",
   "metadata": {},
   "outputs": [],
   "source": [
    "import matplotlib.pyplot as plt\n",
    "import seaborn as sns\n",
    "\n",
    "sns.histplot(\n",
    "    dtr,\n",
    "    bins=40,\n",
    ")"
   ]
  },
  {
   "cell_type": "code",
   "execution_count": null,
   "id": "30a41078-75a6-4e18-a192-8d44886e5b15",
   "metadata": {},
   "outputs": [],
   "source": []
  },
  {
   "cell_type": "code",
   "execution_count": null,
   "id": "6ff1c1f6-e669-4388-a996-e684816cdb55",
   "metadata": {},
   "outputs": [],
   "source": []
  }
 ],
 "metadata": {
  "kernelspec": {
   "display_name": "analysis_m1",
   "language": "python",
   "name": "analysis_m1"
  },
  "language_info": {
   "codemirror_mode": {
    "name": "ipython",
    "version": 3
   },
   "file_extension": ".py",
   "mimetype": "text/x-python",
   "name": "python",
   "nbconvert_exporter": "python",
   "pygments_lexer": "ipython3",
   "version": "3.10.9"
  }
 },
 "nbformat": 4,
 "nbformat_minor": 5
}
